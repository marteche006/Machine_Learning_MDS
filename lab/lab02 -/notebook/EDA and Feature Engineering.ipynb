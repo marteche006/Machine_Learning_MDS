{
 "cells": [
  {
   "cell_type": "markdown",
   "metadata": {},
   "source": [
    "<img src=\"https://live.staticflickr.com/2588/4171571040_bab4a40acf_z.jpg\" width=\"600\" height=\"300\">"
   ]
  },
  {
   "cell_type": "markdown",
   "metadata": {},
   "source": [
    "# OBJECTIVE"
   ]
  },
  {
   "cell_type": "markdown",
   "metadata": {},
   "source": [
    "* LendingClub is a US peer-to-peer lending company, headquartered in San Francisco, California. It was the first peer-to-peer lender to register its offerings as securities with the Securities and Exchange Commission (SEC), and to offer loan trading on a secondary market. LendingClub is the world's largest peer-to-peer lending platform.\n",
    "\n",
    "* Solving this case study will give us an idea about how real business problems are solved using EDA and Machine Learning. In this case study, we will also develop a basic understanding of risk analytics in banking and financial services and understand how data is used to minimise the risk of losing money while lending to customers."
   ]
  },
  {
   "cell_type": "markdown",
   "metadata": {},
   "source": [
    "# TABLE OF CONTENTS\n",
    "* [1.EDA and Feature Engineering](#EDA-and-Feature-Engineering)  \n",
    "* [2.Feature engineering](#Feature-engineering)  \n",
    "* [3.Categorical Features](#Categorical-Features)  \n",
    "* [4.References](#References)  \n",
    "* [5.Pipelines](#Pipelines)  "
   ]
  },
  {
   "cell_type": "markdown",
   "metadata": {},
   "source": [
    "# EDA and Feature Engineering\n",
    "\n",
    "### Gonzalo Rodríguez\n",
    "### Mario Arteche"
   ]
  },
  {
   "cell_type": "markdown",
   "metadata": {},
   "source": [
    "#### Load of packages"
   ]
  },
  {
   "cell_type": "code",
   "execution_count": 1,
   "metadata": {},
   "outputs": [],
   "source": [
    "import pandas as pd \n",
    "import numpy as np\n",
    "import matplotlib.pyplot as plt\n",
    "import seaborn as sns\n",
    "import warnings\n",
    "warnings.filterwarnings(\"ignore\")"
   ]
  },
  {
   "cell_type": "code",
   "execution_count": 2,
   "metadata": {},
   "outputs": [],
   "source": [
    "path1 = '../data/Loan_training_set_1_4.csv'\n",
    "path2 = '../data/Loan_training_set_2_4.csv'\n",
    "path3 = '../data/Loan_training_set_3_4.csv'\n",
    "path4 = '../data/Loan_training_set_4_4.csv'"
   ]
  },
  {
   "cell_type": "markdown",
   "metadata": {},
   "source": [
    "### Loading  Datasets"
   ]
  },
  {
   "cell_type": "code",
   "execution_count": 3,
   "metadata": {},
   "outputs": [],
   "source": [
    "df1 = pd.read_csv(path1, skiprows = 1, sep = ',')\n",
    "\n",
    "df1.drop(df1.tail(2).index, inplace = True)"
   ]
  },
  {
   "cell_type": "code",
   "execution_count": 4,
   "metadata": {},
   "outputs": [],
   "source": [
    "df2 = pd.read_csv(path2, skiprows = 1, sep = ',')\n",
    "\n",
    "df2.drop(df2.tail(2).index, inplace = True)"
   ]
  },
  {
   "cell_type": "code",
   "execution_count": 5,
   "metadata": {},
   "outputs": [],
   "source": [
    "df3 = pd.read_csv(path3, skiprows = 1, sep = ',')\n",
    "\n",
    "df3.drop(df3.tail(2).index, inplace = True)"
   ]
  },
  {
   "cell_type": "code",
   "execution_count": 6,
   "metadata": {},
   "outputs": [],
   "source": [
    "df4 = pd.read_csv(path4, skiprows = 1, sep = ',')\n",
    "\n",
    "df4.drop(df4.tail(2).index, inplace = True)"
   ]
  },
  {
   "cell_type": "markdown",
   "metadata": {},
   "source": [
    " In order to work more efficiently, we join the datasets. We resort to the function concat."
   ]
  },
  {
   "cell_type": "code",
   "execution_count": 7,
   "metadata": {},
   "outputs": [],
   "source": [
    "df_g = pd.concat([df1, df2, df3, df4])"
   ]
  },
  {
   "cell_type": "code",
   "execution_count": null,
   "metadata": {},
   "outputs": [],
   "source": [
    "#cuando Diego nos entrege su dataset\n",
    "# path1 = '../data/Loan_training_set_1_4.csv'\n",
    "#df1 = pd.read_csv(path1, skiprows = 1, sep = ',')\n",
    "#df1.drop(df1.tail(2).index, inplace = True)\n",
    "# df_g = df1"
   ]
  },
  {
   "cell_type": "markdown",
   "metadata": {},
   "source": [
    "### Duplicated Values"
   ]
  },
  {
   "cell_type": "markdown",
   "metadata": {},
   "source": [
    "First of all, we want to make sure there are not duplicated values in our dataset, and observe the percentage of null values in the four dataframes."
   ]
  },
  {
   "cell_type": "markdown",
   "metadata": {},
   "source": [
    "  + With the function df_g.duplicated we check the presence of duplicated values"
   ]
  },
  {
   "cell_type": "code",
   "execution_count": 8,
   "metadata": {},
   "outputs": [],
   "source": [
    "duplicated = df_g[df_g.duplicated(keep = False)]"
   ]
  },
  {
   "cell_type": "code",
   "execution_count": 9,
   "metadata": {},
   "outputs": [
    {
     "data": {
      "text/plain": [
       "id                       0\n",
       "member_id                0\n",
       "loan_amnt                0\n",
       "funded_amnt              0\n",
       "funded_amnt_inv          0\n",
       "                        ..\n",
       "settlement_status        0\n",
       "settlement_date          0\n",
       "settlement_amount        0\n",
       "settlement_percentage    0\n",
       "settlement_term          0\n",
       "Length: 151, dtype: int64"
      ]
     },
     "execution_count": 9,
     "metadata": {},
     "output_type": "execute_result"
    }
   ],
   "source": [
    "duplicated.count()"
   ]
  },
  {
   "cell_type": "markdown",
   "metadata": {},
   "source": [
    "The function returns the following results. If we look at these results, we confirm that there are no duplicate values."
   ]
  },
  {
   "cell_type": "markdown",
   "metadata": {},
   "source": [
    "### Missing Values "
   ]
  },
  {
   "cell_type": "code",
   "execution_count": 10,
   "metadata": {},
   "outputs": [],
   "source": [
    "percent_missing = df_g.isnull().sum() * 100 / len(df_g)\n",
    "missing_value_df_g = pd.DataFrame({'column_name': df_g.columns,\n",
    "                                 'percent_missing': percent_missing})"
   ]
  },
  {
   "cell_type": "code",
   "execution_count": 11,
   "metadata": {},
   "outputs": [],
   "source": [
    "missing_value_df_g.sort_values('percent_missing', inplace=True, ascending = False)"
   ]
  },
  {
   "cell_type": "markdown",
   "metadata": {},
   "source": [
    "Here we observe the percentage of nulls in each column."
   ]
  },
  {
   "cell_type": "code",
   "execution_count": 12,
   "metadata": {},
   "outputs": [
    {
     "data": {
      "text/html": [
       "<div>\n",
       "<style scoped>\n",
       "    .dataframe tbody tr th:only-of-type {\n",
       "        vertical-align: middle;\n",
       "    }\n",
       "\n",
       "    .dataframe tbody tr th {\n",
       "        vertical-align: top;\n",
       "    }\n",
       "\n",
       "    .dataframe thead th {\n",
       "        text-align: right;\n",
       "    }\n",
       "</style>\n",
       "<table border=\"1\" class=\"dataframe\">\n",
       "  <thead>\n",
       "    <tr style=\"text-align: right;\">\n",
       "      <th></th>\n",
       "      <th>column_name</th>\n",
       "      <th>percent_missing</th>\n",
       "    </tr>\n",
       "  </thead>\n",
       "  <tbody>\n",
       "    <tr>\n",
       "      <th>member_id</th>\n",
       "      <td>member_id</td>\n",
       "      <td>100.000000</td>\n",
       "    </tr>\n",
       "    <tr>\n",
       "      <th>orig_projected_additional_accrued_interest</th>\n",
       "      <td>orig_projected_additional_accrued_interest</td>\n",
       "      <td>99.743580</td>\n",
       "    </tr>\n",
       "    <tr>\n",
       "      <th>hardship_end_date</th>\n",
       "      <td>hardship_end_date</td>\n",
       "      <td>99.699280</td>\n",
       "    </tr>\n",
       "    <tr>\n",
       "      <th>hardship_amount</th>\n",
       "      <td>hardship_amount</td>\n",
       "      <td>99.699280</td>\n",
       "    </tr>\n",
       "    <tr>\n",
       "      <th>hardship_type</th>\n",
       "      <td>hardship_type</td>\n",
       "      <td>99.699280</td>\n",
       "    </tr>\n",
       "    <tr>\n",
       "      <th>hardship_reason</th>\n",
       "      <td>hardship_reason</td>\n",
       "      <td>99.699280</td>\n",
       "    </tr>\n",
       "    <tr>\n",
       "      <th>hardship_status</th>\n",
       "      <td>hardship_status</td>\n",
       "      <td>99.699280</td>\n",
       "    </tr>\n",
       "    <tr>\n",
       "      <th>hardship_last_payment_amount</th>\n",
       "      <td>hardship_last_payment_amount</td>\n",
       "      <td>99.699280</td>\n",
       "    </tr>\n",
       "    <tr>\n",
       "      <th>hardship_payoff_balance_amount</th>\n",
       "      <td>hardship_payoff_balance_amount</td>\n",
       "      <td>99.699280</td>\n",
       "    </tr>\n",
       "    <tr>\n",
       "      <th>hardship_loan_status</th>\n",
       "      <td>hardship_loan_status</td>\n",
       "      <td>99.699280</td>\n",
       "    </tr>\n",
       "    <tr>\n",
       "      <th>hardship_dpd</th>\n",
       "      <td>hardship_dpd</td>\n",
       "      <td>99.699280</td>\n",
       "    </tr>\n",
       "    <tr>\n",
       "      <th>hardship_length</th>\n",
       "      <td>hardship_length</td>\n",
       "      <td>99.699280</td>\n",
       "    </tr>\n",
       "    <tr>\n",
       "      <th>payment_plan_start_date</th>\n",
       "      <td>payment_plan_start_date</td>\n",
       "      <td>99.699280</td>\n",
       "    </tr>\n",
       "    <tr>\n",
       "      <th>deferral_term</th>\n",
       "      <td>deferral_term</td>\n",
       "      <td>99.699280</td>\n",
       "    </tr>\n",
       "    <tr>\n",
       "      <th>hardship_start_date</th>\n",
       "      <td>hardship_start_date</td>\n",
       "      <td>99.699280</td>\n",
       "    </tr>\n",
       "    <tr>\n",
       "      <th>sec_app_mths_since_last_major_derog</th>\n",
       "      <td>sec_app_mths_since_last_major_derog</td>\n",
       "      <td>99.188022</td>\n",
       "    </tr>\n",
       "    <tr>\n",
       "      <th>settlement_term</th>\n",
       "      <td>settlement_term</td>\n",
       "      <td>99.037153</td>\n",
       "    </tr>\n",
       "    <tr>\n",
       "      <th>debt_settlement_flag_date</th>\n",
       "      <td>debt_settlement_flag_date</td>\n",
       "      <td>99.037153</td>\n",
       "    </tr>\n",
       "    <tr>\n",
       "      <th>settlement_status</th>\n",
       "      <td>settlement_status</td>\n",
       "      <td>99.037153</td>\n",
       "    </tr>\n",
       "    <tr>\n",
       "      <th>settlement_date</th>\n",
       "      <td>settlement_date</td>\n",
       "      <td>99.037153</td>\n",
       "    </tr>\n",
       "    <tr>\n",
       "      <th>settlement_amount</th>\n",
       "      <td>settlement_amount</td>\n",
       "      <td>99.037153</td>\n",
       "    </tr>\n",
       "    <tr>\n",
       "      <th>settlement_percentage</th>\n",
       "      <td>settlement_percentage</td>\n",
       "      <td>99.037153</td>\n",
       "    </tr>\n",
       "    <tr>\n",
       "      <th>desc</th>\n",
       "      <td>desc</td>\n",
       "      <td>98.268232</td>\n",
       "    </tr>\n",
       "    <tr>\n",
       "      <th>sec_app_revol_util</th>\n",
       "      <td>sec_app_revol_util</td>\n",
       "      <td>97.681257</td>\n",
       "    </tr>\n",
       "    <tr>\n",
       "      <th>sec_app_inq_last_6mths</th>\n",
       "      <td>sec_app_inq_last_6mths</td>\n",
       "      <td>97.649388</td>\n",
       "    </tr>\n",
       "    <tr>\n",
       "      <th>revol_bal_joint</th>\n",
       "      <td>revol_bal_joint</td>\n",
       "      <td>97.649388</td>\n",
       "    </tr>\n",
       "    <tr>\n",
       "      <th>sec_app_fico_range_low</th>\n",
       "      <td>sec_app_fico_range_low</td>\n",
       "      <td>97.649388</td>\n",
       "    </tr>\n",
       "    <tr>\n",
       "      <th>sec_app_fico_range_high</th>\n",
       "      <td>sec_app_fico_range_high</td>\n",
       "      <td>97.649388</td>\n",
       "    </tr>\n",
       "    <tr>\n",
       "      <th>sec_app_earliest_cr_line</th>\n",
       "      <td>sec_app_earliest_cr_line</td>\n",
       "      <td>97.649388</td>\n",
       "    </tr>\n",
       "    <tr>\n",
       "      <th>sec_app_open_act_il</th>\n",
       "      <td>sec_app_open_act_il</td>\n",
       "      <td>97.649388</td>\n",
       "    </tr>\n",
       "    <tr>\n",
       "      <th>sec_app_mort_acc</th>\n",
       "      <td>sec_app_mort_acc</td>\n",
       "      <td>97.649388</td>\n",
       "    </tr>\n",
       "    <tr>\n",
       "      <th>sec_app_chargeoff_within_12_mths</th>\n",
       "      <td>sec_app_chargeoff_within_12_mths</td>\n",
       "      <td>97.649388</td>\n",
       "    </tr>\n",
       "    <tr>\n",
       "      <th>sec_app_open_acc</th>\n",
       "      <td>sec_app_open_acc</td>\n",
       "      <td>97.649388</td>\n",
       "    </tr>\n",
       "    <tr>\n",
       "      <th>sec_app_collections_12_mths_ex_med</th>\n",
       "      <td>sec_app_collections_12_mths_ex_med</td>\n",
       "      <td>97.649388</td>\n",
       "    </tr>\n",
       "    <tr>\n",
       "      <th>sec_app_num_rev_accts</th>\n",
       "      <td>sec_app_num_rev_accts</td>\n",
       "      <td>97.649388</td>\n",
       "    </tr>\n",
       "    <tr>\n",
       "      <th>dti_joint</th>\n",
       "      <td>dti_joint</td>\n",
       "      <td>97.591075</td>\n",
       "    </tr>\n",
       "    <tr>\n",
       "      <th>verification_status_joint</th>\n",
       "      <td>verification_status_joint</td>\n",
       "      <td>97.590849</td>\n",
       "    </tr>\n",
       "    <tr>\n",
       "      <th>annual_inc_joint</th>\n",
       "      <td>annual_inc_joint</td>\n",
       "      <td>97.590849</td>\n",
       "    </tr>\n",
       "    <tr>\n",
       "      <th>mths_since_last_record</th>\n",
       "      <td>mths_since_last_record</td>\n",
       "      <td>82.472120</td>\n",
       "    </tr>\n",
       "    <tr>\n",
       "      <th>il_util</th>\n",
       "      <td>il_util</td>\n",
       "      <td>75.524141</td>\n",
       "    </tr>\n",
       "    <tr>\n",
       "      <th>mths_since_recent_bc_dlq</th>\n",
       "      <td>mths_since_recent_bc_dlq</td>\n",
       "      <td>74.523662</td>\n",
       "    </tr>\n",
       "    <tr>\n",
       "      <th>mths_since_rcnt_il</th>\n",
       "      <td>mths_since_rcnt_il</td>\n",
       "      <td>72.564178</td>\n",
       "    </tr>\n",
       "    <tr>\n",
       "      <th>all_util</th>\n",
       "      <td>all_util</td>\n",
       "      <td>71.804298</td>\n",
       "    </tr>\n",
       "    <tr>\n",
       "      <th>open_rv_24m</th>\n",
       "      <td>open_rv_24m</td>\n",
       "      <td>71.801247</td>\n",
       "    </tr>\n",
       "    <tr>\n",
       "      <th>open_rv_12m</th>\n",
       "      <td>open_rv_12m</td>\n",
       "      <td>71.801247</td>\n",
       "    </tr>\n",
       "    <tr>\n",
       "      <th>inq_last_12m</th>\n",
       "      <td>inq_last_12m</td>\n",
       "      <td>71.801247</td>\n",
       "    </tr>\n",
       "    <tr>\n",
       "      <th>total_bal_il</th>\n",
       "      <td>total_bal_il</td>\n",
       "      <td>71.801247</td>\n",
       "    </tr>\n",
       "    <tr>\n",
       "      <th>open_il_24m</th>\n",
       "      <td>open_il_24m</td>\n",
       "      <td>71.801247</td>\n",
       "    </tr>\n",
       "    <tr>\n",
       "      <th>open_il_12m</th>\n",
       "      <td>open_il_12m</td>\n",
       "      <td>71.801247</td>\n",
       "    </tr>\n",
       "    <tr>\n",
       "      <th>open_act_il</th>\n",
       "      <td>open_act_il</td>\n",
       "      <td>71.801247</td>\n",
       "    </tr>\n",
       "  </tbody>\n",
       "</table>\n",
       "</div>"
      ],
      "text/plain": [
       "                                                                           column_name  \\\n",
       "member_id                                                                    member_id   \n",
       "orig_projected_additional_accrued_interest  orig_projected_additional_accrued_interest   \n",
       "hardship_end_date                                                    hardship_end_date   \n",
       "hardship_amount                                                        hardship_amount   \n",
       "hardship_type                                                            hardship_type   \n",
       "hardship_reason                                                        hardship_reason   \n",
       "hardship_status                                                        hardship_status   \n",
       "hardship_last_payment_amount                              hardship_last_payment_amount   \n",
       "hardship_payoff_balance_amount                          hardship_payoff_balance_amount   \n",
       "hardship_loan_status                                              hardship_loan_status   \n",
       "hardship_dpd                                                              hardship_dpd   \n",
       "hardship_length                                                        hardship_length   \n",
       "payment_plan_start_date                                        payment_plan_start_date   \n",
       "deferral_term                                                            deferral_term   \n",
       "hardship_start_date                                                hardship_start_date   \n",
       "sec_app_mths_since_last_major_derog                sec_app_mths_since_last_major_derog   \n",
       "settlement_term                                                        settlement_term   \n",
       "debt_settlement_flag_date                                    debt_settlement_flag_date   \n",
       "settlement_status                                                    settlement_status   \n",
       "settlement_date                                                        settlement_date   \n",
       "settlement_amount                                                    settlement_amount   \n",
       "settlement_percentage                                            settlement_percentage   \n",
       "desc                                                                              desc   \n",
       "sec_app_revol_util                                                  sec_app_revol_util   \n",
       "sec_app_inq_last_6mths                                          sec_app_inq_last_6mths   \n",
       "revol_bal_joint                                                        revol_bal_joint   \n",
       "sec_app_fico_range_low                                          sec_app_fico_range_low   \n",
       "sec_app_fico_range_high                                        sec_app_fico_range_high   \n",
       "sec_app_earliest_cr_line                                      sec_app_earliest_cr_line   \n",
       "sec_app_open_act_il                                                sec_app_open_act_il   \n",
       "sec_app_mort_acc                                                      sec_app_mort_acc   \n",
       "sec_app_chargeoff_within_12_mths                      sec_app_chargeoff_within_12_mths   \n",
       "sec_app_open_acc                                                      sec_app_open_acc   \n",
       "sec_app_collections_12_mths_ex_med                  sec_app_collections_12_mths_ex_med   \n",
       "sec_app_num_rev_accts                                            sec_app_num_rev_accts   \n",
       "dti_joint                                                                    dti_joint   \n",
       "verification_status_joint                                    verification_status_joint   \n",
       "annual_inc_joint                                                      annual_inc_joint   \n",
       "mths_since_last_record                                          mths_since_last_record   \n",
       "il_util                                                                        il_util   \n",
       "mths_since_recent_bc_dlq                                      mths_since_recent_bc_dlq   \n",
       "mths_since_rcnt_il                                                  mths_since_rcnt_il   \n",
       "all_util                                                                      all_util   \n",
       "open_rv_24m                                                                open_rv_24m   \n",
       "open_rv_12m                                                                open_rv_12m   \n",
       "inq_last_12m                                                              inq_last_12m   \n",
       "total_bal_il                                                              total_bal_il   \n",
       "open_il_24m                                                                open_il_24m   \n",
       "open_il_12m                                                                open_il_12m   \n",
       "open_act_il                                                                open_act_il   \n",
       "\n",
       "                                            percent_missing  \n",
       "member_id                                        100.000000  \n",
       "orig_projected_additional_accrued_interest        99.743580  \n",
       "hardship_end_date                                 99.699280  \n",
       "hardship_amount                                   99.699280  \n",
       "hardship_type                                     99.699280  \n",
       "hardship_reason                                   99.699280  \n",
       "hardship_status                                   99.699280  \n",
       "hardship_last_payment_amount                      99.699280  \n",
       "hardship_payoff_balance_amount                    99.699280  \n",
       "hardship_loan_status                              99.699280  \n",
       "hardship_dpd                                      99.699280  \n",
       "hardship_length                                   99.699280  \n",
       "payment_plan_start_date                           99.699280  \n",
       "deferral_term                                     99.699280  \n",
       "hardship_start_date                               99.699280  \n",
       "sec_app_mths_since_last_major_derog               99.188022  \n",
       "settlement_term                                   99.037153  \n",
       "debt_settlement_flag_date                         99.037153  \n",
       "settlement_status                                 99.037153  \n",
       "settlement_date                                   99.037153  \n",
       "settlement_amount                                 99.037153  \n",
       "settlement_percentage                             99.037153  \n",
       "desc                                              98.268232  \n",
       "sec_app_revol_util                                97.681257  \n",
       "sec_app_inq_last_6mths                            97.649388  \n",
       "revol_bal_joint                                   97.649388  \n",
       "sec_app_fico_range_low                            97.649388  \n",
       "sec_app_fico_range_high                           97.649388  \n",
       "sec_app_earliest_cr_line                          97.649388  \n",
       "sec_app_open_act_il                               97.649388  \n",
       "sec_app_mort_acc                                  97.649388  \n",
       "sec_app_chargeoff_within_12_mths                  97.649388  \n",
       "sec_app_open_acc                                  97.649388  \n",
       "sec_app_collections_12_mths_ex_med                97.649388  \n",
       "sec_app_num_rev_accts                             97.649388  \n",
       "dti_joint                                         97.591075  \n",
       "verification_status_joint                         97.590849  \n",
       "annual_inc_joint                                  97.590849  \n",
       "mths_since_last_record                            82.472120  \n",
       "il_util                                           75.524141  \n",
       "mths_since_recent_bc_dlq                          74.523662  \n",
       "mths_since_rcnt_il                                72.564178  \n",
       "all_util                                          71.804298  \n",
       "open_rv_24m                                       71.801247  \n",
       "open_rv_12m                                       71.801247  \n",
       "inq_last_12m                                      71.801247  \n",
       "total_bal_il                                      71.801247  \n",
       "open_il_24m                                       71.801247  \n",
       "open_il_12m                                       71.801247  \n",
       "open_act_il                                       71.801247  "
      ]
     },
     "execution_count": 12,
     "metadata": {},
     "output_type": "execute_result"
    }
   ],
   "source": [
    "missing_value_df_g.head(50)"
   ]
  },
  {
   "cell_type": "markdown",
   "metadata": {},
   "source": [
    "In a first instance, after having studied the dataset we decided to remove the following variables, as they take part in the following steps of the granting of credit. To make this decision we have drawn on our business knowledge"
   ]
  },
  {
   "cell_type": "code",
   "execution_count": 13,
   "metadata": {},
   "outputs": [],
   "source": [
    "df_g = df_g.drop(['acc_open_past_24mths', \n",
    "                  'dti',\n",
    "                  'loan_amnt',\n",
    "                  'total_pymnt',\n",
    "                  'total_pymnt_inv',\n",
    "                  'total_rec_int',\n",
    "                  'total_rec_late_fee',\n",
    "                  'total_rec_prncp',\n",
    "                  'total_rev_hi_lim',\n",
    "                  'chargeoff_within_12_mths',\n",
    "                  'collection_recovery_fee',\n",
    "                  'collections_12_mths_ex_med',\n",
    "                  'debt_settlement_flag',\n",
    "                  'delinq_2yrs',\n",
    "                  'earliest_cr_line',\n",
    "                  'funded_amnt_inv',\n",
    "                  'id',\n",
    "                  'inq_last_6mths',\n",
    "                  'installment',\n",
    "                  'issue_d',\n",
    "                  'last_credit_pull_d',\n",
    "                  'last_pymnt_amnt',\n",
    "                  'last_pymnt_d',\n",
    "                  'mo_sin_old_rev_tl_op',\n",
    "                  'mo_sin_rcnt_tl',\n",
    "                  'mths_since_recent_bc',\n",
    "                  'mths_since_recent_inq',\n",
    "                  'num_accts_ever_120_pd',\n",
    "                  'num_actv_bc_tl',\n",
    "                  'num_actv_rev_tl',\n",
    "                  'num_bc_tl',\n",
    "                  'num_il_tl',\n",
    "                  'num_op_rev_tl',\n",
    "                  'num_rev_accts',\n",
    "                  'num_rev_tl_bal_gt_0',\n",
    "                  'num_sats',\n",
    "                  'num_tl_30dpd',\n",
    "                  'num_tl_90g_dpd_24m',\n",
    "                  'num_tl_op_past_12m',\n",
    "                  'open_acc',\n",
    "                  'out_prncp',\n",
    "                  'out_prncp_inv',\n",
    "                  'policy_code',\n",
    "                  'pub_rec_bankruptcies',\n",
    "                  'recoveries',\n",
    "                  'revol_bal',\n",
    "                  'revol_util',\n",
    "                  'tax_liens',\n",
    "                  'term',\n",
    "                  'total_il_high_credit_limit'], \n",
    "                 \n",
    "                  axis='columns')"
   ]
  },
  {
   "cell_type": "code",
   "execution_count": 14,
   "metadata": {},
   "outputs": [
    {
     "data": {
      "text/plain": [
       "(884876, 101)"
      ]
     },
     "execution_count": 14,
     "metadata": {},
     "output_type": "execute_result"
    }
   ],
   "source": [
    "df = df_g\n",
    "df.shape"
   ]
  },
  {
   "cell_type": "markdown",
   "metadata": {},
   "source": [
    "Subsequently we decided to remove the columns with more or equal to **70% of NaN´s**"
   ]
  },
  {
   "cell_type": "code",
   "execution_count": 15,
   "metadata": {},
   "outputs": [
    {
     "data": {
      "text/plain": [
       "(884876, 43)"
      ]
     },
     "execution_count": 15,
     "metadata": {},
     "output_type": "execute_result"
    }
   ],
   "source": [
    "filtro_Nan = len(df) * .7\n",
    "df.dropna(thresh = filtro_Nan, axis = 1, inplace = True)\n",
    "df.shape"
   ]
  },
  {
   "cell_type": "code",
   "execution_count": 16,
   "metadata": {
    "scrolled": true
   },
   "outputs": [
    {
     "data": {
      "text/html": [
       "<div>\n",
       "<style scoped>\n",
       "    .dataframe tbody tr th:only-of-type {\n",
       "        vertical-align: middle;\n",
       "    }\n",
       "\n",
       "    .dataframe tbody tr th {\n",
       "        vertical-align: top;\n",
       "    }\n",
       "\n",
       "    .dataframe thead th {\n",
       "        text-align: right;\n",
       "    }\n",
       "</style>\n",
       "<table border=\"1\" class=\"dataframe\">\n",
       "  <thead>\n",
       "    <tr style=\"text-align: right;\">\n",
       "      <th></th>\n",
       "      <th>index</th>\n",
       "      <th>NaN_values</th>\n",
       "      <th>types</th>\n",
       "    </tr>\n",
       "  </thead>\n",
       "  <tbody>\n",
       "    <tr>\n",
       "      <th>0</th>\n",
       "      <td>funded_amnt</td>\n",
       "      <td>0</td>\n",
       "      <td>float64</td>\n",
       "    </tr>\n",
       "    <tr>\n",
       "      <th>1</th>\n",
       "      <td>initial_list_status</td>\n",
       "      <td>0</td>\n",
       "      <td>object</td>\n",
       "    </tr>\n",
       "    <tr>\n",
       "      <th>2</th>\n",
       "      <td>hardship_flag</td>\n",
       "      <td>0</td>\n",
       "      <td>object</td>\n",
       "    </tr>\n",
       "    <tr>\n",
       "      <th>3</th>\n",
       "      <td>last_fico_range_low</td>\n",
       "      <td>0</td>\n",
       "      <td>float64</td>\n",
       "    </tr>\n",
       "    <tr>\n",
       "      <th>4</th>\n",
       "      <td>application_type</td>\n",
       "      <td>0</td>\n",
       "      <td>object</td>\n",
       "    </tr>\n",
       "    <tr>\n",
       "      <th>5</th>\n",
       "      <td>acc_now_delinq</td>\n",
       "      <td>0</td>\n",
       "      <td>float64</td>\n",
       "    </tr>\n",
       "    <tr>\n",
       "      <th>6</th>\n",
       "      <td>tot_coll_amt</td>\n",
       "      <td>0</td>\n",
       "      <td>float64</td>\n",
       "    </tr>\n",
       "    <tr>\n",
       "      <th>7</th>\n",
       "      <td>tot_cur_bal</td>\n",
       "      <td>0</td>\n",
       "      <td>float64</td>\n",
       "    </tr>\n",
       "    <tr>\n",
       "      <th>8</th>\n",
       "      <td>delinq_amnt</td>\n",
       "      <td>0</td>\n",
       "      <td>float64</td>\n",
       "    </tr>\n",
       "    <tr>\n",
       "      <th>9</th>\n",
       "      <td>mo_sin_rcnt_rev_tl_op</td>\n",
       "      <td>0</td>\n",
       "      <td>float64</td>\n",
       "    </tr>\n",
       "    <tr>\n",
       "      <th>10</th>\n",
       "      <td>mort_acc</td>\n",
       "      <td>0</td>\n",
       "      <td>float64</td>\n",
       "    </tr>\n",
       "    <tr>\n",
       "      <th>11</th>\n",
       "      <td>num_bc_sats</td>\n",
       "      <td>0</td>\n",
       "      <td>float64</td>\n",
       "    </tr>\n",
       "    <tr>\n",
       "      <th>12</th>\n",
       "      <td>pct_tl_nvr_dlq</td>\n",
       "      <td>0</td>\n",
       "      <td>float64</td>\n",
       "    </tr>\n",
       "    <tr>\n",
       "      <th>13</th>\n",
       "      <td>tot_hi_cred_lim</td>\n",
       "      <td>0</td>\n",
       "      <td>float64</td>\n",
       "    </tr>\n",
       "    <tr>\n",
       "      <th>14</th>\n",
       "      <td>total_bal_ex_mort</td>\n",
       "      <td>0</td>\n",
       "      <td>float64</td>\n",
       "    </tr>\n",
       "    <tr>\n",
       "      <th>15</th>\n",
       "      <td>total_bc_limit</td>\n",
       "      <td>0</td>\n",
       "      <td>float64</td>\n",
       "    </tr>\n",
       "    <tr>\n",
       "      <th>16</th>\n",
       "      <td>total_acc</td>\n",
       "      <td>0</td>\n",
       "      <td>float64</td>\n",
       "    </tr>\n",
       "    <tr>\n",
       "      <th>17</th>\n",
       "      <td>pub_rec</td>\n",
       "      <td>0</td>\n",
       "      <td>float64</td>\n",
       "    </tr>\n",
       "    <tr>\n",
       "      <th>18</th>\n",
       "      <td>last_fico_range_high</td>\n",
       "      <td>0</td>\n",
       "      <td>float64</td>\n",
       "    </tr>\n",
       "    <tr>\n",
       "      <th>19</th>\n",
       "      <td>fico_range_low</td>\n",
       "      <td>0</td>\n",
       "      <td>float64</td>\n",
       "    </tr>\n",
       "    <tr>\n",
       "      <th>20</th>\n",
       "      <td>int_rate</td>\n",
       "      <td>0</td>\n",
       "      <td>object</td>\n",
       "    </tr>\n",
       "    <tr>\n",
       "      <th>21</th>\n",
       "      <td>grade</td>\n",
       "      <td>0</td>\n",
       "      <td>object</td>\n",
       "    </tr>\n",
       "    <tr>\n",
       "      <th>22</th>\n",
       "      <td>sub_grade</td>\n",
       "      <td>0</td>\n",
       "      <td>object</td>\n",
       "    </tr>\n",
       "    <tr>\n",
       "      <th>23</th>\n",
       "      <td>home_ownership</td>\n",
       "      <td>0</td>\n",
       "      <td>object</td>\n",
       "    </tr>\n",
       "    <tr>\n",
       "      <th>24</th>\n",
       "      <td>annual_inc</td>\n",
       "      <td>0</td>\n",
       "      <td>float64</td>\n",
       "    </tr>\n",
       "    <tr>\n",
       "      <th>25</th>\n",
       "      <td>fico_range_high</td>\n",
       "      <td>0</td>\n",
       "      <td>float64</td>\n",
       "    </tr>\n",
       "    <tr>\n",
       "      <th>26</th>\n",
       "      <td>verification_status</td>\n",
       "      <td>0</td>\n",
       "      <td>object</td>\n",
       "    </tr>\n",
       "    <tr>\n",
       "      <th>27</th>\n",
       "      <td>pymnt_plan</td>\n",
       "      <td>0</td>\n",
       "      <td>object</td>\n",
       "    </tr>\n",
       "    <tr>\n",
       "      <th>28</th>\n",
       "      <td>url</td>\n",
       "      <td>0</td>\n",
       "      <td>object</td>\n",
       "    </tr>\n",
       "    <tr>\n",
       "      <th>29</th>\n",
       "      <td>purpose</td>\n",
       "      <td>0</td>\n",
       "      <td>object</td>\n",
       "    </tr>\n",
       "    <tr>\n",
       "      <th>30</th>\n",
       "      <td>zip_code</td>\n",
       "      <td>0</td>\n",
       "      <td>object</td>\n",
       "    </tr>\n",
       "    <tr>\n",
       "      <th>31</th>\n",
       "      <td>addr_state</td>\n",
       "      <td>0</td>\n",
       "      <td>object</td>\n",
       "    </tr>\n",
       "    <tr>\n",
       "      <th>32</th>\n",
       "      <td>loan_status</td>\n",
       "      <td>0</td>\n",
       "      <td>object</td>\n",
       "    </tr>\n",
       "    <tr>\n",
       "      <th>33</th>\n",
       "      <td>disbursement_method</td>\n",
       "      <td>0</td>\n",
       "      <td>object</td>\n",
       "    </tr>\n",
       "    <tr>\n",
       "      <th>34</th>\n",
       "      <td>avg_cur_bal</td>\n",
       "      <td>13</td>\n",
       "      <td>float64</td>\n",
       "    </tr>\n",
       "    <tr>\n",
       "      <th>35</th>\n",
       "      <td>title</td>\n",
       "      <td>132</td>\n",
       "      <td>object</td>\n",
       "    </tr>\n",
       "    <tr>\n",
       "      <th>36</th>\n",
       "      <td>bc_open_to_buy</td>\n",
       "      <td>9287</td>\n",
       "      <td>float64</td>\n",
       "    </tr>\n",
       "    <tr>\n",
       "      <th>37</th>\n",
       "      <td>percent_bc_gt_75</td>\n",
       "      <td>9680</td>\n",
       "      <td>float64</td>\n",
       "    </tr>\n",
       "    <tr>\n",
       "      <th>38</th>\n",
       "      <td>bc_util</td>\n",
       "      <td>9824</td>\n",
       "      <td>float64</td>\n",
       "    </tr>\n",
       "    <tr>\n",
       "      <th>39</th>\n",
       "      <td>mo_sin_old_il_acct</td>\n",
       "      <td>25614</td>\n",
       "      <td>float64</td>\n",
       "    </tr>\n",
       "    <tr>\n",
       "      <th>40</th>\n",
       "      <td>num_tl_120dpd_2m</td>\n",
       "      <td>37803</td>\n",
       "      <td>float64</td>\n",
       "    </tr>\n",
       "    <tr>\n",
       "      <th>41</th>\n",
       "      <td>emp_length</td>\n",
       "      <td>51193</td>\n",
       "      <td>object</td>\n",
       "    </tr>\n",
       "    <tr>\n",
       "      <th>42</th>\n",
       "      <td>emp_title</td>\n",
       "      <td>52693</td>\n",
       "      <td>object</td>\n",
       "    </tr>\n",
       "  </tbody>\n",
       "</table>\n",
       "</div>"
      ],
      "text/plain": [
       "                    index  NaN_values    types\n",
       "0             funded_amnt           0  float64\n",
       "1     initial_list_status           0   object\n",
       "2           hardship_flag           0   object\n",
       "3     last_fico_range_low           0  float64\n",
       "4        application_type           0   object\n",
       "5          acc_now_delinq           0  float64\n",
       "6            tot_coll_amt           0  float64\n",
       "7             tot_cur_bal           0  float64\n",
       "8             delinq_amnt           0  float64\n",
       "9   mo_sin_rcnt_rev_tl_op           0  float64\n",
       "10               mort_acc           0  float64\n",
       "11            num_bc_sats           0  float64\n",
       "12         pct_tl_nvr_dlq           0  float64\n",
       "13        tot_hi_cred_lim           0  float64\n",
       "14      total_bal_ex_mort           0  float64\n",
       "15         total_bc_limit           0  float64\n",
       "16              total_acc           0  float64\n",
       "17                pub_rec           0  float64\n",
       "18   last_fico_range_high           0  float64\n",
       "19         fico_range_low           0  float64\n",
       "20               int_rate           0   object\n",
       "21                  grade           0   object\n",
       "22              sub_grade           0   object\n",
       "23         home_ownership           0   object\n",
       "24             annual_inc           0  float64\n",
       "25        fico_range_high           0  float64\n",
       "26    verification_status           0   object\n",
       "27             pymnt_plan           0   object\n",
       "28                    url           0   object\n",
       "29                purpose           0   object\n",
       "30               zip_code           0   object\n",
       "31             addr_state           0   object\n",
       "32            loan_status           0   object\n",
       "33    disbursement_method           0   object\n",
       "34            avg_cur_bal          13  float64\n",
       "35                  title         132   object\n",
       "36         bc_open_to_buy        9287  float64\n",
       "37       percent_bc_gt_75        9680  float64\n",
       "38                bc_util        9824  float64\n",
       "39     mo_sin_old_il_acct       25614  float64\n",
       "40       num_tl_120dpd_2m       37803  float64\n",
       "41             emp_length       51193   object\n",
       "42              emp_title       52693   object"
      ]
     },
     "execution_count": 16,
     "metadata": {},
     "output_type": "execute_result"
    }
   ],
   "source": [
    "df_typ = pd.merge(df.isnull().sum(axis = 0).sort_values().to_frame('NaN_values').reset_index(),\n",
    "                     df.dtypes.to_frame('types').reset_index(),\n",
    "                     on = 'index',\n",
    "                     how = 'inner')\n",
    "df_typ"
   ]
  },
  {
   "cell_type": "markdown",
   "metadata": {},
   "source": [
    "Afterwards we print the principal statistics of our dataset to visulize the range of our main features and its distributions"
   ]
  },
  {
   "cell_type": "code",
   "execution_count": 17,
   "metadata": {
    "scrolled": false
   },
   "outputs": [
    {
     "data": {
      "text/html": [
       "<div>\n",
       "<style scoped>\n",
       "    .dataframe tbody tr th:only-of-type {\n",
       "        vertical-align: middle;\n",
       "    }\n",
       "\n",
       "    .dataframe tbody tr th {\n",
       "        vertical-align: top;\n",
       "    }\n",
       "\n",
       "    .dataframe thead th {\n",
       "        text-align: right;\n",
       "    }\n",
       "</style>\n",
       "<table border=\"1\" class=\"dataframe\">\n",
       "  <thead>\n",
       "    <tr style=\"text-align: right;\">\n",
       "      <th></th>\n",
       "      <th>count</th>\n",
       "      <th>mean</th>\n",
       "      <th>std</th>\n",
       "      <th>min</th>\n",
       "      <th>25%</th>\n",
       "      <th>50%</th>\n",
       "      <th>75%</th>\n",
       "      <th>max</th>\n",
       "    </tr>\n",
       "  </thead>\n",
       "  <tbody>\n",
       "    <tr>\n",
       "      <th>funded_amnt</th>\n",
       "      <td>884876.0</td>\n",
       "      <td>14975.072</td>\n",
       "      <td>8804.519</td>\n",
       "      <td>1000.0</td>\n",
       "      <td>8000.0</td>\n",
       "      <td>13000.0</td>\n",
       "      <td>20000.00</td>\n",
       "      <td>40000.0</td>\n",
       "    </tr>\n",
       "    <tr>\n",
       "      <th>annual_inc</th>\n",
       "      <td>884876.0</td>\n",
       "      <td>77102.415</td>\n",
       "      <td>135491.609</td>\n",
       "      <td>0.0</td>\n",
       "      <td>46000.0</td>\n",
       "      <td>65000.0</td>\n",
       "      <td>92000.00</td>\n",
       "      <td>110000000.0</td>\n",
       "    </tr>\n",
       "    <tr>\n",
       "      <th>fico_range_low</th>\n",
       "      <td>884876.0</td>\n",
       "      <td>694.699</td>\n",
       "      <td>30.936</td>\n",
       "      <td>660.0</td>\n",
       "      <td>670.0</td>\n",
       "      <td>685.0</td>\n",
       "      <td>710.00</td>\n",
       "      <td>845.0</td>\n",
       "    </tr>\n",
       "    <tr>\n",
       "      <th>fico_range_high</th>\n",
       "      <td>884876.0</td>\n",
       "      <td>698.699</td>\n",
       "      <td>30.937</td>\n",
       "      <td>664.0</td>\n",
       "      <td>674.0</td>\n",
       "      <td>689.0</td>\n",
       "      <td>714.00</td>\n",
       "      <td>850.0</td>\n",
       "    </tr>\n",
       "    <tr>\n",
       "      <th>pub_rec</th>\n",
       "      <td>884876.0</td>\n",
       "      <td>0.226</td>\n",
       "      <td>0.623</td>\n",
       "      <td>0.0</td>\n",
       "      <td>0.0</td>\n",
       "      <td>0.0</td>\n",
       "      <td>0.00</td>\n",
       "      <td>86.0</td>\n",
       "    </tr>\n",
       "    <tr>\n",
       "      <th>total_acc</th>\n",
       "      <td>884876.0</td>\n",
       "      <td>25.112</td>\n",
       "      <td>12.022</td>\n",
       "      <td>2.0</td>\n",
       "      <td>16.0</td>\n",
       "      <td>23.0</td>\n",
       "      <td>32.00</td>\n",
       "      <td>169.0</td>\n",
       "    </tr>\n",
       "    <tr>\n",
       "      <th>last_fico_range_high</th>\n",
       "      <td>884876.0</td>\n",
       "      <td>686.138</td>\n",
       "      <td>70.031</td>\n",
       "      <td>0.0</td>\n",
       "      <td>659.0</td>\n",
       "      <td>694.0</td>\n",
       "      <td>729.00</td>\n",
       "      <td>850.0</td>\n",
       "    </tr>\n",
       "    <tr>\n",
       "      <th>last_fico_range_low</th>\n",
       "      <td>884876.0</td>\n",
       "      <td>675.260</td>\n",
       "      <td>104.092</td>\n",
       "      <td>0.0</td>\n",
       "      <td>655.0</td>\n",
       "      <td>690.0</td>\n",
       "      <td>725.00</td>\n",
       "      <td>845.0</td>\n",
       "    </tr>\n",
       "    <tr>\n",
       "      <th>acc_now_delinq</th>\n",
       "      <td>884876.0</td>\n",
       "      <td>0.006</td>\n",
       "      <td>0.083</td>\n",
       "      <td>0.0</td>\n",
       "      <td>0.0</td>\n",
       "      <td>0.0</td>\n",
       "      <td>0.00</td>\n",
       "      <td>14.0</td>\n",
       "    </tr>\n",
       "    <tr>\n",
       "      <th>tot_coll_amt</th>\n",
       "      <td>884876.0</td>\n",
       "      <td>253.656</td>\n",
       "      <td>9942.521</td>\n",
       "      <td>0.0</td>\n",
       "      <td>0.0</td>\n",
       "      <td>0.0</td>\n",
       "      <td>0.00</td>\n",
       "      <td>9152545.0</td>\n",
       "    </tr>\n",
       "    <tr>\n",
       "      <th>tot_cur_bal</th>\n",
       "      <td>884876.0</td>\n",
       "      <td>141334.587</td>\n",
       "      <td>156637.669</td>\n",
       "      <td>0.0</td>\n",
       "      <td>30180.0</td>\n",
       "      <td>80608.5</td>\n",
       "      <td>210655.00</td>\n",
       "      <td>4447397.0</td>\n",
       "    </tr>\n",
       "    <tr>\n",
       "      <th>avg_cur_bal</th>\n",
       "      <td>884863.0</td>\n",
       "      <td>13354.806</td>\n",
       "      <td>15985.456</td>\n",
       "      <td>0.0</td>\n",
       "      <td>3148.0</td>\n",
       "      <td>7375.0</td>\n",
       "      <td>18484.00</td>\n",
       "      <td>555925.0</td>\n",
       "    </tr>\n",
       "    <tr>\n",
       "      <th>bc_open_to_buy</th>\n",
       "      <td>875589.0</td>\n",
       "      <td>9947.906</td>\n",
       "      <td>15123.770</td>\n",
       "      <td>0.0</td>\n",
       "      <td>1394.0</td>\n",
       "      <td>4514.0</td>\n",
       "      <td>12032.00</td>\n",
       "      <td>559912.0</td>\n",
       "    </tr>\n",
       "    <tr>\n",
       "      <th>bc_util</th>\n",
       "      <td>875052.0</td>\n",
       "      <td>61.236</td>\n",
       "      <td>27.760</td>\n",
       "      <td>0.0</td>\n",
       "      <td>40.2</td>\n",
       "      <td>64.6</td>\n",
       "      <td>85.70</td>\n",
       "      <td>318.2</td>\n",
       "    </tr>\n",
       "    <tr>\n",
       "      <th>delinq_amnt</th>\n",
       "      <td>884876.0</td>\n",
       "      <td>13.943</td>\n",
       "      <td>790.341</td>\n",
       "      <td>0.0</td>\n",
       "      <td>0.0</td>\n",
       "      <td>0.0</td>\n",
       "      <td>0.00</td>\n",
       "      <td>249925.0</td>\n",
       "    </tr>\n",
       "    <tr>\n",
       "      <th>mo_sin_old_il_acct</th>\n",
       "      <td>859262.0</td>\n",
       "      <td>127.253</td>\n",
       "      <td>52.471</td>\n",
       "      <td>0.0</td>\n",
       "      <td>100.0</td>\n",
       "      <td>130.0</td>\n",
       "      <td>154.00</td>\n",
       "      <td>999.0</td>\n",
       "    </tr>\n",
       "    <tr>\n",
       "      <th>mo_sin_rcnt_rev_tl_op</th>\n",
       "      <td>884876.0</td>\n",
       "      <td>13.541</td>\n",
       "      <td>17.013</td>\n",
       "      <td>0.0</td>\n",
       "      <td>4.0</td>\n",
       "      <td>8.0</td>\n",
       "      <td>16.00</td>\n",
       "      <td>372.0</td>\n",
       "    </tr>\n",
       "    <tr>\n",
       "      <th>mort_acc</th>\n",
       "      <td>884876.0</td>\n",
       "      <td>1.654</td>\n",
       "      <td>1.983</td>\n",
       "      <td>0.0</td>\n",
       "      <td>0.0</td>\n",
       "      <td>1.0</td>\n",
       "      <td>3.00</td>\n",
       "      <td>94.0</td>\n",
       "    </tr>\n",
       "    <tr>\n",
       "      <th>num_bc_sats</th>\n",
       "      <td>884876.0</td>\n",
       "      <td>4.752</td>\n",
       "      <td>2.979</td>\n",
       "      <td>0.0</td>\n",
       "      <td>3.0</td>\n",
       "      <td>4.0</td>\n",
       "      <td>6.00</td>\n",
       "      <td>63.0</td>\n",
       "    </tr>\n",
       "    <tr>\n",
       "      <th>num_tl_120dpd_2m</th>\n",
       "      <td>847073.0</td>\n",
       "      <td>0.001</td>\n",
       "      <td>0.032</td>\n",
       "      <td>0.0</td>\n",
       "      <td>0.0</td>\n",
       "      <td>0.0</td>\n",
       "      <td>0.00</td>\n",
       "      <td>7.0</td>\n",
       "    </tr>\n",
       "    <tr>\n",
       "      <th>pct_tl_nvr_dlq</th>\n",
       "      <td>884876.0</td>\n",
       "      <td>93.895</td>\n",
       "      <td>9.028</td>\n",
       "      <td>0.0</td>\n",
       "      <td>90.9</td>\n",
       "      <td>97.5</td>\n",
       "      <td>100.00</td>\n",
       "      <td>100.0</td>\n",
       "    </tr>\n",
       "    <tr>\n",
       "      <th>percent_bc_gt_75</th>\n",
       "      <td>875196.0</td>\n",
       "      <td>46.447</td>\n",
       "      <td>36.001</td>\n",
       "      <td>0.0</td>\n",
       "      <td>14.3</td>\n",
       "      <td>50.0</td>\n",
       "      <td>75.00</td>\n",
       "      <td>100.0</td>\n",
       "    </tr>\n",
       "    <tr>\n",
       "      <th>tot_hi_cred_lim</th>\n",
       "      <td>884876.0</td>\n",
       "      <td>174945.029</td>\n",
       "      <td>176913.616</td>\n",
       "      <td>0.0</td>\n",
       "      <td>50427.0</td>\n",
       "      <td>112845.5</td>\n",
       "      <td>252778.25</td>\n",
       "      <td>9999999.0</td>\n",
       "    </tr>\n",
       "    <tr>\n",
       "      <th>total_bal_ex_mort</th>\n",
       "      <td>884876.0</td>\n",
       "      <td>51250.132</td>\n",
       "      <td>48948.203</td>\n",
       "      <td>0.0</td>\n",
       "      <td>21719.0</td>\n",
       "      <td>38505.5</td>\n",
       "      <td>64469.00</td>\n",
       "      <td>3408095.0</td>\n",
       "    </tr>\n",
       "    <tr>\n",
       "      <th>total_bc_limit</th>\n",
       "      <td>884876.0</td>\n",
       "      <td>21863.623</td>\n",
       "      <td>21866.205</td>\n",
       "      <td>0.0</td>\n",
       "      <td>7700.0</td>\n",
       "      <td>15200.0</td>\n",
       "      <td>28500.00</td>\n",
       "      <td>1090700.0</td>\n",
       "    </tr>\n",
       "  </tbody>\n",
       "</table>\n",
       "</div>"
      ],
      "text/plain": [
       "                          count        mean         std     min      25%  \\\n",
       "funded_amnt            884876.0   14975.072    8804.519  1000.0   8000.0   \n",
       "annual_inc             884876.0   77102.415  135491.609     0.0  46000.0   \n",
       "fico_range_low         884876.0     694.699      30.936   660.0    670.0   \n",
       "fico_range_high        884876.0     698.699      30.937   664.0    674.0   \n",
       "pub_rec                884876.0       0.226       0.623     0.0      0.0   \n",
       "total_acc              884876.0      25.112      12.022     2.0     16.0   \n",
       "last_fico_range_high   884876.0     686.138      70.031     0.0    659.0   \n",
       "last_fico_range_low    884876.0     675.260     104.092     0.0    655.0   \n",
       "acc_now_delinq         884876.0       0.006       0.083     0.0      0.0   \n",
       "tot_coll_amt           884876.0     253.656    9942.521     0.0      0.0   \n",
       "tot_cur_bal            884876.0  141334.587  156637.669     0.0  30180.0   \n",
       "avg_cur_bal            884863.0   13354.806   15985.456     0.0   3148.0   \n",
       "bc_open_to_buy         875589.0    9947.906   15123.770     0.0   1394.0   \n",
       "bc_util                875052.0      61.236      27.760     0.0     40.2   \n",
       "delinq_amnt            884876.0      13.943     790.341     0.0      0.0   \n",
       "mo_sin_old_il_acct     859262.0     127.253      52.471     0.0    100.0   \n",
       "mo_sin_rcnt_rev_tl_op  884876.0      13.541      17.013     0.0      4.0   \n",
       "mort_acc               884876.0       1.654       1.983     0.0      0.0   \n",
       "num_bc_sats            884876.0       4.752       2.979     0.0      3.0   \n",
       "num_tl_120dpd_2m       847073.0       0.001       0.032     0.0      0.0   \n",
       "pct_tl_nvr_dlq         884876.0      93.895       9.028     0.0     90.9   \n",
       "percent_bc_gt_75       875196.0      46.447      36.001     0.0     14.3   \n",
       "tot_hi_cred_lim        884876.0  174945.029  176913.616     0.0  50427.0   \n",
       "total_bal_ex_mort      884876.0   51250.132   48948.203     0.0  21719.0   \n",
       "total_bc_limit         884876.0   21863.623   21866.205     0.0   7700.0   \n",
       "\n",
       "                            50%        75%          max  \n",
       "funded_amnt             13000.0   20000.00      40000.0  \n",
       "annual_inc              65000.0   92000.00  110000000.0  \n",
       "fico_range_low            685.0     710.00        845.0  \n",
       "fico_range_high           689.0     714.00        850.0  \n",
       "pub_rec                     0.0       0.00         86.0  \n",
       "total_acc                  23.0      32.00        169.0  \n",
       "last_fico_range_high      694.0     729.00        850.0  \n",
       "last_fico_range_low       690.0     725.00        845.0  \n",
       "acc_now_delinq              0.0       0.00         14.0  \n",
       "tot_coll_amt                0.0       0.00    9152545.0  \n",
       "tot_cur_bal             80608.5  210655.00    4447397.0  \n",
       "avg_cur_bal              7375.0   18484.00     555925.0  \n",
       "bc_open_to_buy           4514.0   12032.00     559912.0  \n",
       "bc_util                    64.6      85.70        318.2  \n",
       "delinq_amnt                 0.0       0.00     249925.0  \n",
       "mo_sin_old_il_acct        130.0     154.00        999.0  \n",
       "mo_sin_rcnt_rev_tl_op       8.0      16.00        372.0  \n",
       "mort_acc                    1.0       3.00         94.0  \n",
       "num_bc_sats                 4.0       6.00         63.0  \n",
       "num_tl_120dpd_2m            0.0       0.00          7.0  \n",
       "pct_tl_nvr_dlq             97.5     100.00        100.0  \n",
       "percent_bc_gt_75           50.0      75.00        100.0  \n",
       "tot_hi_cred_lim        112845.5  252778.25    9999999.0  \n",
       "total_bal_ex_mort       38505.5   64469.00    3408095.0  \n",
       "total_bc_limit          15200.0   28500.00    1090700.0  "
      ]
     },
     "execution_count": 17,
     "metadata": {},
     "output_type": "execute_result"
    }
   ],
   "source": [
    "round(df.describe(),3).T"
   ]
  },
  {
   "cell_type": "markdown",
   "metadata": {},
   "source": [
    "# Feature engineering"
   ]
  },
  {
   "cell_type": "markdown",
   "metadata": {},
   "source": [
    "In the following steps we will create a range of functions to clasify our cathegorical variables within a dummy structure"
   ]
  },
  {
   "cell_type": "markdown",
   "metadata": {},
   "source": [
    "Firstly, we deal with our variable to be predicted, These consist of the following variables:\n",
    "+ Fully Paid\n",
    "+ Charged Off\n",
    "+ In Grace Period\n",
    "+ Late (31-120 days)\n",
    "+ Late (16-30 days)\n",
    "+ Current\n",
    "+ Default  \n",
    "\n",
    "We consider that **Fully Paid** means that the loan has been paid, while in the case of the other variables that had some kind of delay, we have considered as unpaid.  \n",
    "Likewise, in the case of the **Current** variable, we have given it another value and then proceeded to delete it, given that it does not provide us with any information as far as prediction is concerned."
   ]
  },
  {
   "cell_type": "code",
   "execution_count": 18,
   "metadata": {},
   "outputs": [],
   "source": [
    "def target(x):\n",
    "    if x == 'Fully Paid':\n",
    "        return 1\n",
    "    elif x == 'Charged Off':\n",
    "        return 0\n",
    "    elif x == 'In Grace Period':\n",
    "        return 0\n",
    "    elif x == 'Late (31-120 days)':\n",
    "        return 0\n",
    "    elif x == 'Late (16-30 days)':\n",
    "        return 0\n",
    "    elif x == 'Current':\n",
    "        return 2\n",
    "    elif x == 'Default':\n",
    "        return 0"
   ]
  },
  {
   "cell_type": "markdown",
   "metadata": {},
   "source": [
    "We corroborate that our function has worked properly"
   ]
  },
  {
   "cell_type": "code",
   "execution_count": 19,
   "metadata": {},
   "outputs": [
    {
     "data": {
      "text/plain": [
       "array([2, 1, 0], dtype=int64)"
      ]
     },
     "execution_count": 19,
     "metadata": {},
     "output_type": "execute_result"
    }
   ],
   "source": [
    "df['loan_status'] = df.loan_status.map(target)\n",
    "df.loan_status.unique()"
   ]
  },
  {
   "cell_type": "markdown",
   "metadata": {},
   "source": [
    "And delete the 2 in our dummy, as it includes the current status loans"
   ]
  },
  {
   "cell_type": "code",
   "execution_count": 20,
   "metadata": {},
   "outputs": [
    {
     "data": {
      "text/plain": [
       "array([1, 0], dtype=int64)"
      ]
     },
     "execution_count": 20,
     "metadata": {},
     "output_type": "execute_result"
    }
   ],
   "source": [
    "df_unpaid = df[(df.loan_status == 1) | (df.loan_status == 0)]\n",
    "df_unpaid.loan_status.unique()"
   ]
  },
  {
   "cell_type": "markdown",
   "metadata": {},
   "source": [
    "We want to see how imbalanced our sample is"
   ]
  },
  {
   "cell_type": "code",
   "execution_count": 21,
   "metadata": {},
   "outputs": [
    {
     "data": {
      "text/html": [
       "<div>\n",
       "<style scoped>\n",
       "    .dataframe tbody tr th:only-of-type {\n",
       "        vertical-align: middle;\n",
       "    }\n",
       "\n",
       "    .dataframe tbody tr th {\n",
       "        vertical-align: top;\n",
       "    }\n",
       "\n",
       "    .dataframe thead th {\n",
       "        text-align: right;\n",
       "    }\n",
       "</style>\n",
       "<table border=\"1\" class=\"dataframe\">\n",
       "  <thead>\n",
       "    <tr style=\"text-align: right;\">\n",
       "      <th></th>\n",
       "      <th>observaciones</th>\n",
       "      <th>variable</th>\n",
       "    </tr>\n",
       "  </thead>\n",
       "  <tbody>\n",
       "    <tr>\n",
       "      <th>1</th>\n",
       "      <td>345520</td>\n",
       "      <td>1</td>\n",
       "    </tr>\n",
       "    <tr>\n",
       "      <th>0</th>\n",
       "      <td>116671</td>\n",
       "      <td>0</td>\n",
       "    </tr>\n",
       "  </tbody>\n",
       "</table>\n",
       "</div>"
      ],
      "text/plain": [
       "   observaciones  variable\n",
       "1         345520         1\n",
       "0         116671         0"
      ]
     },
     "execution_count": 21,
     "metadata": {},
     "output_type": "execute_result"
    }
   ],
   "source": [
    "distribution = pd.DataFrame({'observaciones' : df_unpaid['loan_status'].value_counts(),\n",
    "                       'variable' : df_unpaid.loan_status.unique()}).sort_values(by = 'observaciones', ascending = False)\n",
    "distribution"
   ]
  },
  {
   "cell_type": "code",
   "execution_count": 22,
   "metadata": {},
   "outputs": [
    {
     "data": {
      "image/png": "[encoded data removed]",
      "text/plain": [
       "<Figure size 432x288 with 1 Axes>"
      ]
     },
     "metadata": {
      "needs_background": "light"
     },
     "output_type": "display_data"
    }
   ],
   "source": [
    "sns.barplot(x = distribution.variable, y =distribution.observaciones, order = distribution.variable);"
   ]
  },
  {
   "cell_type": "markdown",
   "metadata": {},
   "source": [
    "We conclude that **75% and 25%** respectively seem to us to be the correct position for the **issue under discussion**"
   ]
  },
  {
   "cell_type": "markdown",
   "metadata": {},
   "source": [
    "Afterward we **remove** a wide range of **variables** as we consider them unnecesary for our analysis. Since we consider that the information they give us is **not really relevant**"
   ]
  },
  {
   "cell_type": "code",
   "execution_count": 23,
   "metadata": {},
   "outputs": [],
   "source": [
    "df_unpaid.drop(['url', 'funded_amnt'], axis = 'columns', inplace = True)"
   ]
  },
  {
   "cell_type": "code",
   "execution_count": 24,
   "metadata": {},
   "outputs": [
    {
     "data": {
      "text/plain": [
       "array([1, 0], dtype=int64)"
      ]
     },
     "execution_count": 24,
     "metadata": {},
     "output_type": "execute_result"
    }
   ],
   "source": [
    "df_unpaid.shape\n",
    "\n",
    "df_unpaid.loan_status.unique()"
   ]
  },
  {
   "cell_type": "code",
   "execution_count": 25,
   "metadata": {},
   "outputs": [],
   "source": [
    "df_n = df_unpaid.drop(['addr_state',\n",
    "                       'application_type',\n",
    "                       'disbursement_method',\n",
    "                       'emp_length',\n",
    "                       'loan_status',\n",
    "                       'emp_title',\n",
    "                       'grade',\n",
    "                       'hardship_flag',\n",
    "                       'home_ownership',\n",
    "                       'initial_list_status',\n",
    "                       'purpose',\n",
    "                       'pymnt_plan',\n",
    "                       'title',\n",
    "                       'verification_status',\n",
    "                       'sub_grade',\n",
    "                       'zip_code'], axis = 1)"
   ]
  },
  {
   "cell_type": "markdown",
   "metadata": {},
   "source": [
    "We want to see if there are only numerical variables in our data set"
   ]
  },
  {
   "cell_type": "code",
   "execution_count": 26,
   "metadata": {},
   "outputs": [
    {
     "name": "stdout",
     "output_type": "stream",
     "text": [
      "int_rate --> 200 , data type object\n",
      "annual_inc --> 29484 , data type float64\n",
      "fico_range_low --> 38 , data type float64\n",
      "fico_range_high --> 38 , data type float64\n",
      "pub_rec --> 27 , data type float64\n",
      "total_acc --> 127 , data type float64\n",
      "last_fico_range_high --> 72 , data type float64\n",
      "last_fico_range_low --> 71 , data type float64\n",
      "acc_now_delinq --> 7 , data type float64\n",
      "tot_coll_amt --> 8479 , data type float64\n",
      "tot_cur_bal --> 242649 , data type float64\n",
      "avg_cur_bal --> 58056 , data type float64\n",
      "bc_open_to_buy --> 51462 , data type float64\n",
      "bc_util --> 1328 , data type float64\n",
      "delinq_amnt --> 953 , data type float64\n",
      "mo_sin_old_il_acct --> 478 , data type float64\n",
      "mo_sin_rcnt_rev_tl_op --> 228 , data type float64\n",
      "mort_acc --> 35 , data type float64\n",
      "num_bc_sats --> 46 , data type float64\n",
      "num_tl_120dpd_2m --> 5 , data type float64\n",
      "pct_tl_nvr_dlq --> 544 , data type float64\n",
      "percent_bc_gt_75 --> 196 , data type float64\n",
      "tot_hi_cred_lim --> 250593 , data type float64\n",
      "total_bal_ex_mort --> 128944 , data type float64\n",
      "total_bc_limit --> 4634 , data type float64\n"
     ]
    }
   ],
   "source": [
    "for variable in list(df_n.columns):\n",
    "    print(variable + ' --> ' + str(df_n[variable].nunique()) + ' , data type '  + str(df_n[variable].dtype))"
   ]
  },
  {
   "cell_type": "markdown",
   "metadata": {},
   "source": [
    "We  transform interest rate into numeric, and we delete the percentage symbol"
   ]
  },
  {
   "cell_type": "code",
   "execution_count": 27,
   "metadata": {},
   "outputs": [
    {
     "data": {
      "text/plain": [
       "8      7.35\n",
       "10    24.85\n",
       "24     7.35\n",
       "42    16.02\n",
       "91    16.02\n",
       "Name: int_rate, dtype: float64"
      ]
     },
     "execution_count": 27,
     "metadata": {},
     "output_type": "execute_result"
    }
   ],
   "source": [
    "df_n['int_rate'] = df_n.int_rate.str.strip('%').astype(float)\n",
    "df_n.int_rate.head(5)"
   ]
  },
  {
   "cell_type": "markdown",
   "metadata": {},
   "source": [
    "### Correlation matrix\n",
    "\n",
    "+ Low correlation in almost all variables \n",
    "+ So we decided not to eliminate any of the variables in concern"
   ]
  },
  {
   "cell_type": "code",
   "execution_count": 28,
   "metadata": {},
   "outputs": [
    {
     "data": {
      "text/plain": [
       "<matplotlib.axes._subplots.AxesSubplot at 0x23a49c32520>"
      ]
     },
     "execution_count": 28,
     "metadata": {},
     "output_type": "execute_result"
    },
    {
     "data": {
      "image/png": "[encoded data removed]",
      "text/plain": [
       "<Figure size 1440x1080 with 2 Axes>"
      ]
     },
     "metadata": {},
     "output_type": "display_data"
    }
   ],
   "source": [
    "corr = df_n.corr()\n",
    "\n",
    "mask = np.zeros_like(corr, dtype=np.bool) #para quitar la parte superior de la matriz \n",
    "mask[np.triu_indices_from(mask)] = True\n",
    "\n",
    "sns.set_style(style = 'white') #para que no se vean los cuadrados que sobran \n",
    "\n",
    "\n",
    "f, ax = plt.subplots(figsize=(20, 15)) #dibujamos el lienzo \n",
    "\n",
    "cmap = sns.diverging_palette(24,1,as_cmap = True) # gama de colores\n",
    "\n",
    "sns.heatmap(corr, mask=mask, cmap = cmap,\n",
    "            vmax = 1,\n",
    "            center = 0,\n",
    "            square=True,\n",
    "            linewidths=.5, cbar_kws={\"shrink\": .5}) "
   ]
  },
  {
   "cell_type": "markdown",
   "metadata": {},
   "source": [
    "Afterward we delete the following variables with the same criteria above"
   ]
  },
  {
   "cell_type": "code",
   "execution_count": 29,
   "metadata": {},
   "outputs": [],
   "source": [
    "df_categorical = df_unpaid.loc[:,['addr_state',\n",
    "                        'application_type',\n",
    "                        'disbursement_method',\n",
    "                        'emp_length',\n",
    "                        'emp_title',\n",
    "                        'grade',\n",
    "                        'hardship_flag',\n",
    "                        'home_ownership',\n",
    "                        'initial_list_status',\n",
    "                        'loan_status',\n",
    "                        'purpose',\n",
    "                        'pymnt_plan',\n",
    "                        'title',\n",
    "                        'verification_status',\n",
    "                        'sub_grade',\n",
    "                        'zip_code']]"
   ]
  },
  {
   "cell_type": "code",
   "execution_count": 30,
   "metadata": {},
   "outputs": [],
   "source": [
    "df_categorical.drop(['addr_state',\n",
    "           'disbursement_method',\n",
    "           'initial_list_status',\n",
    "           'title',\n",
    "           'sub_grade',\n",
    "           'emp_title',\n",
    "           'zip_code'], axis = 'columns', inplace = True)"
   ]
  },
  {
   "cell_type": "code",
   "execution_count": 31,
   "metadata": {},
   "outputs": [
    {
     "data": {
      "text/html": [
       "<div>\n",
       "<style scoped>\n",
       "    .dataframe tbody tr th:only-of-type {\n",
       "        vertical-align: middle;\n",
       "    }\n",
       "\n",
       "    .dataframe tbody tr th {\n",
       "        vertical-align: top;\n",
       "    }\n",
       "\n",
       "    .dataframe thead th {\n",
       "        text-align: right;\n",
       "    }\n",
       "</style>\n",
       "<table border=\"1\" class=\"dataframe\">\n",
       "  <thead>\n",
       "    <tr style=\"text-align: right;\">\n",
       "      <th></th>\n",
       "      <th>application_type</th>\n",
       "      <th>emp_length</th>\n",
       "      <th>grade</th>\n",
       "      <th>hardship_flag</th>\n",
       "      <th>home_ownership</th>\n",
       "      <th>loan_status</th>\n",
       "      <th>purpose</th>\n",
       "      <th>pymnt_plan</th>\n",
       "      <th>verification_status</th>\n",
       "    </tr>\n",
       "  </thead>\n",
       "  <tbody>\n",
       "    <tr>\n",
       "      <th>8</th>\n",
       "      <td>Individual</td>\n",
       "      <td>6 years</td>\n",
       "      <td>A</td>\n",
       "      <td>N</td>\n",
       "      <td>OWN</td>\n",
       "      <td>1</td>\n",
       "      <td>credit_card</td>\n",
       "      <td>n</td>\n",
       "      <td>Not Verified</td>\n",
       "    </tr>\n",
       "    <tr>\n",
       "      <th>10</th>\n",
       "      <td>Individual</td>\n",
       "      <td>2 years</td>\n",
       "      <td>E</td>\n",
       "      <td>N</td>\n",
       "      <td>RENT</td>\n",
       "      <td>1</td>\n",
       "      <td>debt_consolidation</td>\n",
       "      <td>n</td>\n",
       "      <td>Source Verified</td>\n",
       "    </tr>\n",
       "    <tr>\n",
       "      <th>24</th>\n",
       "      <td>Individual</td>\n",
       "      <td>7 years</td>\n",
       "      <td>A</td>\n",
       "      <td>N</td>\n",
       "      <td>MORTGAGE</td>\n",
       "      <td>1</td>\n",
       "      <td>debt_consolidation</td>\n",
       "      <td>n</td>\n",
       "      <td>Not Verified</td>\n",
       "    </tr>\n",
       "    <tr>\n",
       "      <th>42</th>\n",
       "      <td>Individual</td>\n",
       "      <td>7 years</td>\n",
       "      <td>C</td>\n",
       "      <td>N</td>\n",
       "      <td>RENT</td>\n",
       "      <td>1</td>\n",
       "      <td>debt_consolidation</td>\n",
       "      <td>n</td>\n",
       "      <td>Source Verified</td>\n",
       "    </tr>\n",
       "    <tr>\n",
       "      <th>91</th>\n",
       "      <td>Individual</td>\n",
       "      <td>7 years</td>\n",
       "      <td>C</td>\n",
       "      <td>N</td>\n",
       "      <td>MORTGAGE</td>\n",
       "      <td>1</td>\n",
       "      <td>debt_consolidation</td>\n",
       "      <td>n</td>\n",
       "      <td>Verified</td>\n",
       "    </tr>\n",
       "  </tbody>\n",
       "</table>\n",
       "</div>"
      ],
      "text/plain": [
       "   application_type emp_length grade hardship_flag home_ownership  \\\n",
       "8        Individual    6 years     A             N            OWN   \n",
       "10       Individual    2 years     E             N           RENT   \n",
       "24       Individual    7 years     A             N       MORTGAGE   \n",
       "42       Individual    7 years     C             N           RENT   \n",
       "91       Individual    7 years     C             N       MORTGAGE   \n",
       "\n",
       "    loan_status             purpose pymnt_plan verification_status  \n",
       "8             1         credit_card          n        Not Verified  \n",
       "10            1  debt_consolidation          n     Source Verified  \n",
       "24            1  debt_consolidation          n        Not Verified  \n",
       "42            1  debt_consolidation          n     Source Verified  \n",
       "91            1  debt_consolidation          n            Verified  "
      ]
     },
     "execution_count": 31,
     "metadata": {},
     "output_type": "execute_result"
    }
   ],
   "source": [
    "df_categorical.head(5)"
   ]
  },
  {
   "cell_type": "markdown",
   "metadata": {},
   "source": [
    "We define some fuctions to transform the following categorical features"
   ]
  },
  {
   "cell_type": "code",
   "execution_count": 32,
   "metadata": {},
   "outputs": [],
   "source": [
    "df_categorical['application_type'] = df_categorical.application_type.map(lambda x: 0 if ( x == 'Individual')  else 1)"
   ]
  },
  {
   "cell_type": "code",
   "execution_count": 33,
   "metadata": {},
   "outputs": [],
   "source": [
    "def años(x):\n",
    "    if (x == '1 year') | (x == '2 years') | (x == '3 years') | (x == '4 years'):\n",
    "        return 0\n",
    "    elif (x == '5 year') | (x == '6 years') | (x == '7 years') | (x == '8 years') | (x == '9 years'):\n",
    "        return 1\n",
    "    elif x == '10+ years':\n",
    "        return 2\n"
   ]
  },
  {
   "cell_type": "markdown",
   "metadata": {},
   "source": [
    "We will consider NaN values as if borrowers have not ever worked. "
   ]
  },
  {
   "cell_type": "code",
   "execution_count": 34,
   "metadata": {},
   "outputs": [],
   "source": [
    "df_categorical['emp_length'] = df_categorical.emp_length.map(años)\n",
    "\n",
    "df_categorical['emp_length'] = df_categorical.emp_length.fillna(0)"
   ]
  },
  {
   "cell_type": "code",
   "execution_count": 35,
   "metadata": {},
   "outputs": [
    {
     "data": {
      "text/plain": [
       "array([1., 0., 2.])"
      ]
     },
     "execution_count": 35,
     "metadata": {},
     "output_type": "execute_result"
    }
   ],
   "source": [
    "df_categorical.emp_length.unique()"
   ]
  },
  {
   "cell_type": "code",
   "execution_count": 36,
   "metadata": {},
   "outputs": [],
   "source": [
    "def riesgo(x):\n",
    "    if (x == 'A') | (x == 'B') | (x == 'C'):\n",
    "        return 0\n",
    "    elif (x == 'D') | (x == 'E') | (x == 'F') | (x == 'G'):\n",
    "        return 1"
   ]
  },
  {
   "cell_type": "code",
   "execution_count": 37,
   "metadata": {},
   "outputs": [],
   "source": [
    "df_categorical['grade'] = df_categorical.grade.map(riesgo)"
   ]
  },
  {
   "cell_type": "code",
   "execution_count": 38,
   "metadata": {},
   "outputs": [
    {
     "data": {
      "text/plain": [
       "array([0, 1], dtype=int64)"
      ]
     },
     "execution_count": 38,
     "metadata": {},
     "output_type": "execute_result"
    }
   ],
   "source": [
    "df_categorical.grade.unique()"
   ]
  },
  {
   "cell_type": "code",
   "execution_count": 39,
   "metadata": {},
   "outputs": [
    {
     "data": {
      "text/plain": [
       "array(['OWN', 'MORTGAGE', 'RENT', 'ANY', 'NONE'], dtype=object)"
      ]
     },
     "execution_count": 39,
     "metadata": {},
     "output_type": "execute_result"
    }
   ],
   "source": [
    "df_g.home_ownership.unique()"
   ]
  },
  {
   "cell_type": "code",
   "execution_count": 40,
   "metadata": {},
   "outputs": [],
   "source": [
    "def propiedad(x):\n",
    "    if (x == 'OWN') | (x == 'MORTGAGE'):\n",
    "        return 1\n",
    "    else:\n",
    "        return 0"
   ]
  },
  {
   "cell_type": "code",
   "execution_count": 41,
   "metadata": {},
   "outputs": [],
   "source": [
    "df_categorical['home_ownership'] = df_categorical.home_ownership.map(propiedad)"
   ]
  },
  {
   "cell_type": "code",
   "execution_count": 42,
   "metadata": {},
   "outputs": [
    {
     "data": {
      "text/plain": [
       "array([1, 0], dtype=int64)"
      ]
     },
     "execution_count": 42,
     "metadata": {},
     "output_type": "execute_result"
    }
   ],
   "source": [
    "df_categorical.home_ownership.unique()"
   ]
  },
  {
   "cell_type": "code",
   "execution_count": 43,
   "metadata": {},
   "outputs": [
    {
     "data": {
      "text/plain": [
       "array(['credit_card', 'debt_consolidation', 'home_improvement', 'other',\n",
       "       'major_purchase', 'moving', 'medical', 'car', 'vacation',\n",
       "       'small_business', 'house', 'renewable_energy', 'wedding',\n",
       "       'educational'], dtype=object)"
      ]
     },
     "execution_count": 43,
     "metadata": {},
     "output_type": "execute_result"
    }
   ],
   "source": [
    "df_categorical.purpose.unique()"
   ]
  },
  {
   "cell_type": "code",
   "execution_count": 44,
   "metadata": {},
   "outputs": [],
   "source": [
    "def proposito(x):\n",
    "    if (x == 'small_business') | (x == 'debt_consolidation') | (x == 'major_purchase' ) | (x == 'medical'):\n",
    "        return 0\n",
    "    elif (x == 'credit_card') | (x == 'home_improvement') | (x == 'house') | (x == 'car'):\n",
    "        return 1\n",
    "    else:\n",
    "        return 2"
   ]
  },
  {
   "cell_type": "code",
   "execution_count": 45,
   "metadata": {},
   "outputs": [],
   "source": [
    "df_categorical['purpose'] = df_categorical.purpose.map(proposito)"
   ]
  },
  {
   "cell_type": "code",
   "execution_count": 46,
   "metadata": {},
   "outputs": [
    {
     "data": {
      "text/plain": [
       "array([1, 0, 2], dtype=int64)"
      ]
     },
     "execution_count": 46,
     "metadata": {},
     "output_type": "execute_result"
    }
   ],
   "source": [
    "df_categorical.purpose.unique()"
   ]
  },
  {
   "cell_type": "code",
   "execution_count": 47,
   "metadata": {},
   "outputs": [],
   "source": [
    "df_categorical['pymnt_plan'] = df_categorical.pymnt_plan.map(lambda x: 0 if (x == 'n') else 1)"
   ]
  },
  {
   "cell_type": "code",
   "execution_count": 48,
   "metadata": {},
   "outputs": [
    {
     "data": {
      "text/plain": [
       "array([0, 1], dtype=int64)"
      ]
     },
     "execution_count": 48,
     "metadata": {},
     "output_type": "execute_result"
    }
   ],
   "source": [
    "df_categorical.pymnt_plan.unique()"
   ]
  },
  {
   "cell_type": "code",
   "execution_count": 49,
   "metadata": {},
   "outputs": [],
   "source": [
    "df_categorical['verification_status'] = df_categorical.verification_status.map(lambda x: 0 if (x == 'Not Verified') else 1)"
   ]
  },
  {
   "cell_type": "code",
   "execution_count": 50,
   "metadata": {},
   "outputs": [
    {
     "data": {
      "text/plain": [
       "array([0, 1], dtype=int64)"
      ]
     },
     "execution_count": 50,
     "metadata": {},
     "output_type": "execute_result"
    }
   ],
   "source": [
    "df_categorical.verification_status.unique()"
   ]
  },
  {
   "cell_type": "code",
   "execution_count": 51,
   "metadata": {},
   "outputs": [],
   "source": [
    "df_categorical['hardship_flag'] = df_categorical.hardship_flag.map(lambda x: 0 if (x == 'N') else 1)"
   ]
  },
  {
   "cell_type": "code",
   "execution_count": 52,
   "metadata": {},
   "outputs": [
    {
     "data": {
      "text/plain": [
       "array([0, 1], dtype=int64)"
      ]
     },
     "execution_count": 52,
     "metadata": {},
     "output_type": "execute_result"
    }
   ],
   "source": [
    "df_categorical['hardship_flag'].unique()"
   ]
  },
  {
   "cell_type": "code",
   "execution_count": 53,
   "metadata": {},
   "outputs": [
    {
     "data": {
      "text/html": [
       "<div>\n",
       "<style scoped>\n",
       "    .dataframe tbody tr th:only-of-type {\n",
       "        vertical-align: middle;\n",
       "    }\n",
       "\n",
       "    .dataframe tbody tr th {\n",
       "        vertical-align: top;\n",
       "    }\n",
       "\n",
       "    .dataframe thead th {\n",
       "        text-align: right;\n",
       "    }\n",
       "</style>\n",
       "<table border=\"1\" class=\"dataframe\">\n",
       "  <thead>\n",
       "    <tr style=\"text-align: right;\">\n",
       "      <th></th>\n",
       "      <th>application_type</th>\n",
       "      <th>emp_length</th>\n",
       "      <th>grade</th>\n",
       "      <th>hardship_flag</th>\n",
       "      <th>home_ownership</th>\n",
       "      <th>loan_status</th>\n",
       "      <th>purpose</th>\n",
       "      <th>pymnt_plan</th>\n",
       "      <th>verification_status</th>\n",
       "    </tr>\n",
       "  </thead>\n",
       "  <tbody>\n",
       "    <tr>\n",
       "      <th>8</th>\n",
       "      <td>0</td>\n",
       "      <td>1.0</td>\n",
       "      <td>0</td>\n",
       "      <td>0</td>\n",
       "      <td>1</td>\n",
       "      <td>1</td>\n",
       "      <td>1</td>\n",
       "      <td>0</td>\n",
       "      <td>0</td>\n",
       "    </tr>\n",
       "    <tr>\n",
       "      <th>10</th>\n",
       "      <td>0</td>\n",
       "      <td>0.0</td>\n",
       "      <td>1</td>\n",
       "      <td>0</td>\n",
       "      <td>0</td>\n",
       "      <td>1</td>\n",
       "      <td>0</td>\n",
       "      <td>0</td>\n",
       "      <td>1</td>\n",
       "    </tr>\n",
       "    <tr>\n",
       "      <th>24</th>\n",
       "      <td>0</td>\n",
       "      <td>1.0</td>\n",
       "      <td>0</td>\n",
       "      <td>0</td>\n",
       "      <td>1</td>\n",
       "      <td>1</td>\n",
       "      <td>0</td>\n",
       "      <td>0</td>\n",
       "      <td>0</td>\n",
       "    </tr>\n",
       "    <tr>\n",
       "      <th>42</th>\n",
       "      <td>0</td>\n",
       "      <td>1.0</td>\n",
       "      <td>0</td>\n",
       "      <td>0</td>\n",
       "      <td>0</td>\n",
       "      <td>1</td>\n",
       "      <td>0</td>\n",
       "      <td>0</td>\n",
       "      <td>1</td>\n",
       "    </tr>\n",
       "    <tr>\n",
       "      <th>91</th>\n",
       "      <td>0</td>\n",
       "      <td>1.0</td>\n",
       "      <td>0</td>\n",
       "      <td>0</td>\n",
       "      <td>1</td>\n",
       "      <td>1</td>\n",
       "      <td>0</td>\n",
       "      <td>0</td>\n",
       "      <td>1</td>\n",
       "    </tr>\n",
       "  </tbody>\n",
       "</table>\n",
       "</div>"
      ],
      "text/plain": [
       "    application_type  emp_length  grade  hardship_flag  home_ownership  \\\n",
       "8                  0         1.0      0              0               1   \n",
       "10                 0         0.0      1              0               0   \n",
       "24                 0         1.0      0              0               1   \n",
       "42                 0         1.0      0              0               0   \n",
       "91                 0         1.0      0              0               1   \n",
       "\n",
       "    loan_status  purpose  pymnt_plan  verification_status  \n",
       "8             1        1           0                    0  \n",
       "10            1        0           0                    1  \n",
       "24            1        0           0                    0  \n",
       "42            1        0           0                    1  \n",
       "91            1        0           0                    1  "
      ]
     },
     "execution_count": 53,
     "metadata": {},
     "output_type": "execute_result"
    }
   ],
   "source": [
    "df_categorical.head(5)"
   ]
  },
  {
   "cell_type": "markdown",
   "metadata": {},
   "source": [
    "After working wiht the categorical features we tranform them into object type."
   ]
  },
  {
   "cell_type": "code",
   "execution_count": 54,
   "metadata": {},
   "outputs": [],
   "source": [
    "df_c = df_categorical.astype('object')"
   ]
  },
  {
   "cell_type": "code",
   "execution_count": 55,
   "metadata": {},
   "outputs": [
    {
     "name": "stdout",
     "output_type": "stream",
     "text": [
      "<class 'pandas.core.frame.DataFrame'>\n",
      "Int64Index: 462191 entries, 8 to 421094\n",
      "Data columns (total 9 columns):\n",
      " #   Column               Non-Null Count   Dtype \n",
      "---  ------               --------------   ----- \n",
      " 0   application_type     462191 non-null  object\n",
      " 1   emp_length           462191 non-null  object\n",
      " 2   grade                462191 non-null  object\n",
      " 3   hardship_flag        462191 non-null  object\n",
      " 4   home_ownership       462191 non-null  object\n",
      " 5   loan_status          462191 non-null  object\n",
      " 6   purpose              462191 non-null  object\n",
      " 7   pymnt_plan           462191 non-null  object\n",
      " 8   verification_status  462191 non-null  object\n",
      "dtypes: object(9)\n",
      "memory usage: 35.3+ MB\n"
     ]
    }
   ],
   "source": [
    "df_c.info()"
   ]
  },
  {
   "cell_type": "code",
   "execution_count": 56,
   "metadata": {},
   "outputs": [
    {
     "data": {
      "text/plain": [
       "array([1, 0], dtype=object)"
      ]
     },
     "execution_count": 56,
     "metadata": {},
     "output_type": "execute_result"
    }
   ],
   "source": [
    "df_c.loan_status.unique()"
   ]
  },
  {
   "cell_type": "markdown",
   "metadata": {},
   "source": [
    "Since we worked with categorical features and numerical features, we joined the two dataframes. "
   ]
  },
  {
   "cell_type": "code",
   "execution_count": 57,
   "metadata": {},
   "outputs": [],
   "source": [
    "df_unido = pd.DataFrame(pd.concat([df_n, df_c], axis = 1))"
   ]
  },
  {
   "cell_type": "code",
   "execution_count": 58,
   "metadata": {},
   "outputs": [],
   "source": [
    "df_unido.to_csv(\"../data/df_unido.csv\")"
   ]
  },
  {
   "cell_type": "markdown",
   "metadata": {},
   "source": [
    "After data treatment lets see a brief **EDA** to get know better the dataset and how is distributed."
   ]
  },
  {
   "cell_type": "markdown",
   "metadata": {},
   "source": [
    "# Categorical Features"
   ]
  },
  {
   "cell_type": "markdown",
   "metadata": {},
   "source": [
    "In this case, when the feauture `home_ownership` takes the value of 1 means that the person owns a house, elsewhere it does not."
   ]
  },
  {
   "cell_type": "code",
   "execution_count": 59,
   "metadata": {},
   "outputs": [
    {
     "data": {
      "text/plain": [
       "<matplotlib.axes._subplots.AxesSubplot at 0x23a387e0940>"
      ]
     },
     "execution_count": 59,
     "metadata": {},
     "output_type": "execute_result"
    },
    {
     "data": {
      "image/png": "[encoded data removed]",
      "text/plain": [
       "<Figure size 360x360 with 1 Axes>"
      ]
     },
     "metadata": {},
     "output_type": "display_data"
    }
   ],
   "source": [
    "\n",
    "home_ownership = pd.crosstab(index=df_unido[\"loan_status\"], columns=df_unido[\"home_ownership\"])\n",
    "\n",
    "\n",
    "home_ownership.plot(kind=\"bar\", \n",
    "                 figsize=(5,5),\n",
    "                 stacked=True)"
   ]
  },
  {
   "cell_type": "markdown",
   "metadata": {},
   "source": [
    "As is expected there is more people that pays the loan that own a house."
   ]
  },
  {
   "cell_type": "markdown",
   "metadata": {},
   "source": [
    "#### GRADE VS LOAN STATUS"
   ]
  },
  {
   "cell_type": "markdown",
   "metadata": {},
   "source": [
    "We have grouped the client's rating  (`grade`) into two groups, on the one hand the most solvent and on the other the least solvent. We represent with 0, those with the best rating, and with 1 those with the \"worst\" rating. Obviously, in the case of loan repayment, those who predominate are those who are most solvent."
   ]
  },
  {
   "cell_type": "code",
   "execution_count": 60,
   "metadata": {},
   "outputs": [
    {
     "data": {
      "text/plain": [
       "<matplotlib.axes._subplots.AxesSubplot at 0x23a3883a610>"
      ]
     },
     "execution_count": 60,
     "metadata": {},
     "output_type": "execute_result"
    },
    {
     "data": {
      "image/png": "[encoded data removed]",
      "text/plain": [
       "<Figure size 360x360 with 1 Axes>"
      ]
     },
     "metadata": {},
     "output_type": "display_data"
    }
   ],
   "source": [
    "\n",
    "grade = pd.crosstab(index=df_unido[\"loan_status\"], columns=df_unido[\"grade\"])\n",
    "\n",
    "grade.plot(kind=\"bar\", \n",
    "                 figsize=(5,5),\n",
    "                 stacked=True)"
   ]
  },
  {
   "cell_type": "markdown",
   "metadata": {},
   "source": [
    "##### EMP_LENGTH VS LOAN_STATUS"
   ]
  },
  {
   "cell_type": "markdown",
   "metadata": {},
   "source": [
    "In the following graph, we represent with 0 those who have been working for up to 4 years, with 1 those who have been working for up to 9 years and with 10 those who have been working for more than 10 years.\n",
    "\n",
    "Contrary to what is expected, since we assume that the greater the number of years working, the greater the savings."
   ]
  },
  {
   "cell_type": "code",
   "execution_count": 61,
   "metadata": {},
   "outputs": [
    {
     "data": {
      "text/plain": [
       "<matplotlib.axes._subplots.AxesSubplot at 0x23a3888c340>"
      ]
     },
     "execution_count": 61,
     "metadata": {},
     "output_type": "execute_result"
    },
    {
     "data": {
      "image/png": "[encoded data removed]",
      "text/plain": [
       "<Figure size 360x360 with 1 Axes>"
      ]
     },
     "metadata": {},
     "output_type": "display_data"
    }
   ],
   "source": [
    "\n",
    "emp_length = pd.crosstab(index=df_unido[\"loan_status\"], columns=df_unido[\"emp_length\"])\n",
    "\n",
    "\n",
    "emp_length.plot(kind=\"bar\", \n",
    "                 figsize=(5,5),\n",
    "                 stacked=True)"
   ]
  },
  {
   "cell_type": "markdown",
   "metadata": {},
   "source": [
    "## Pipelines"
   ]
  },
  {
   "cell_type": "code",
   "execution_count": 62,
   "metadata": {},
   "outputs": [],
   "source": [
    "from sklearn.pipeline import Pipeline\n",
    "from sklearn.impute import SimpleImputer\n",
    "from sklearn.preprocessing import StandardScaler\n",
    "\n",
    "numeric_transformer = Pipeline(steps=[\n",
    "    ('imputer', SimpleImputer(strategy='median')),\n",
    "    ('scaler', StandardScaler())])"
   ]
  },
  {
   "cell_type": "code",
   "execution_count": 63,
   "metadata": {},
   "outputs": [],
   "source": [
    "categorical_transformer = Pipeline(steps=[\n",
    "    ('imputer', SimpleImputer(strategy='constant', fill_value='999'))])    \n",
    "categorical_features = df_unido.select_dtypes(include=['object']).columns"
   ]
  },
  {
   "cell_type": "code",
   "execution_count": 64,
   "metadata": {},
   "outputs": [
    {
     "data": {
      "text/plain": [
       "Pipeline(steps=[('imputer', SimpleImputer(strategy='median')),\n",
       "                ('scaler', StandardScaler())])"
      ]
     },
     "execution_count": 64,
     "metadata": {},
     "output_type": "execute_result"
    }
   ],
   "source": [
    "numeric_transformer"
   ]
  },
  {
   "cell_type": "code",
   "execution_count": 65,
   "metadata": {},
   "outputs": [],
   "source": [
    "numeric_features = df_unido.select_dtypes(include=['int64', 'float64','int32']).columns\n",
    "\n",
    "from sklearn.compose import ColumnTransformer\n",
    "\n",
    "preprocessor = ColumnTransformer(\n",
    "    transformers=[\n",
    "        ('num', numeric_transformer, numeric_features),\n",
    "        ('cat', categorical_transformer, categorical_features)])"
   ]
  },
  {
   "cell_type": "code",
   "execution_count": 66,
   "metadata": {},
   "outputs": [],
   "source": [
    "df_definitivo= pd.DataFrame(preprocessor.fit_transform(df_unido), columns = df_unido.columns)"
   ]
  },
  {
   "cell_type": "code",
   "execution_count": 67,
   "metadata": {},
   "outputs": [],
   "source": [
    "df_definitivo.to_csv(\"../data/df_unido_definitivo.csv\")"
   ]
  },
  {
   "cell_type": "markdown",
   "metadata": {},
   "source": [
    "# References"
   ]
  },
  {
   "cell_type": "markdown",
   "metadata": {},
   "source": [
    "* https://towardsdatascience.com/catboost-vs-light-gbm-vs-xgboost-5f93620723db\n",
    "* https://towardsdatascience.com/random-forest-in-python-24d0893d51c0 \n",
    "* https://medium.com/@benfenison/gridsearching-a-random-forest-classifier-fc225609699c \n",
    "* https://medium.com/vickdata/a-simple-guide-to-scikit-learn-pipelines-4ac0d974bdcf"
   ]
  }
 ],
 "metadata": {
  "kernelspec": {
   "display_name": "Python 3",
   "language": "python",
   "name": "python3"
  },
  "language_info": {
   "codemirror_mode": {
    "name": "ipython",
    "version": 3
   },
   "file_extension": ".py",
   "mimetype": "text/x-python",
   "name": "python",
   "nbconvert_exporter": "python",
   "pygments_lexer": "ipython3",
   "version": "3.8.3"
  }
 },
 "nbformat": 4,
 "nbformat_minor": 4
}
