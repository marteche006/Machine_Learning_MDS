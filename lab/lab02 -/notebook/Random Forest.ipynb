{
 "cells": [
  {
   "cell_type": "markdown",
   "metadata": {},
   "source": [
    "<img src=\"https://live.staticflickr.com/2588/4171571040_bab4a40acf_z.jpg\" width=\"600\" height=\"300\">"
   ]
  },
  {
   "cell_type": "markdown",
   "metadata": {},
   "source": [
    "## Random Forest"
   ]
  },
  {
   "cell_type": "markdown",
   "metadata": {},
   "source": [
    "Random forests or random decision forests are an ensemble learning method for classification, regression and other tasks that operate by constructing a multitude of decision trees at training time and outputting the class that is the mode of the classes (classification) or mean/average prediction (regression) of the individual trees"
   ]
  },
  {
   "cell_type": "markdown",
   "metadata": {},
   "source": [
    "**TABLE OF CONTENTS**\n",
    "\n",
    "* [1.Random Forest](#Random-Forest)\n",
    "* [2.Model](#Model)  \n",
    "* [3.References](#References)"
   ]
  },
  {
   "cell_type": "markdown",
   "metadata": {},
   "source": [
    "# Random Forest"
   ]
  },
  {
   "cell_type": "code",
   "execution_count": 15,
   "metadata": {},
   "outputs": [],
   "source": [
    "import pandas as pd\n",
    "import numpy as np\n",
    "import seaborn as sns\n",
    "import matplotlib\n",
    "import matplotlib.pyplot as plt\n",
    "import xgboost as xgb\n",
    "import pickle\n",
    "import seaborn as sns\n",
    "\n",
    "from numpy import genfromtxt\n",
    "from sklearn.ensemble import RandomForestRegressor, RandomForestClassifier\n",
    "from sklearn.linear_model import LogisticRegression\n",
    "from sklearn.metrics import roc_auc_score, roc_curve, auc, confusion_matrix, classification_report\n",
    "from sklearn.svm import SVC\n",
    "from sklearn.model_selection import GridSearchCV, RandomizedSearchCV, train_test_split\n",
    "from sklearn.feature_selection import RFE\n",
    "from sklearn import model_selection, metrics, linear_model\n",
    "from sklearn.metrics import plot_confusion_matrix\n",
    "from sklearn.metrics import accuracy_score\n",
    "from sklearn.ensemble import GradientBoostingClassifier\n",
    "from matplotlib import pyplot\n",
    "\n",
    "import sklearn.metrics as skm\n",
    "\n",
    "pd.set_option('display.max_columns', None)"
   ]
  },
  {
   "cell_type": "code",
   "execution_count": 2,
   "metadata": {},
   "outputs": [
    {
     "data": {
      "text/html": [
       "<div>\n",
       "<style scoped>\n",
       "    .dataframe tbody tr th:only-of-type {\n",
       "        vertical-align: middle;\n",
       "    }\n",
       "\n",
       "    .dataframe tbody tr th {\n",
       "        vertical-align: top;\n",
       "    }\n",
       "\n",
       "    .dataframe thead th {\n",
       "        text-align: right;\n",
       "    }\n",
       "</style>\n",
       "<table border=\"1\" class=\"dataframe\">\n",
       "  <thead>\n",
       "    <tr style=\"text-align: right;\">\n",
       "      <th></th>\n",
       "      <th>int_rate</th>\n",
       "      <th>annual_inc</th>\n",
       "      <th>fico_range_low</th>\n",
       "      <th>fico_range_high</th>\n",
       "      <th>pub_rec</th>\n",
       "      <th>total_acc</th>\n",
       "      <th>last_fico_range_high</th>\n",
       "      <th>last_fico_range_low</th>\n",
       "      <th>acc_now_delinq</th>\n",
       "      <th>tot_coll_amt</th>\n",
       "      <th>tot_cur_bal</th>\n",
       "      <th>avg_cur_bal</th>\n",
       "      <th>bc_open_to_buy</th>\n",
       "      <th>bc_util</th>\n",
       "      <th>delinq_amnt</th>\n",
       "      <th>mo_sin_old_il_acct</th>\n",
       "      <th>mo_sin_rcnt_rev_tl_op</th>\n",
       "      <th>mort_acc</th>\n",
       "      <th>num_bc_sats</th>\n",
       "      <th>num_tl_120dpd_2m</th>\n",
       "      <th>pct_tl_nvr_dlq</th>\n",
       "      <th>percent_bc_gt_75</th>\n",
       "      <th>tot_hi_cred_lim</th>\n",
       "      <th>total_bal_ex_mort</th>\n",
       "      <th>total_bc_limit</th>\n",
       "      <th>application_type</th>\n",
       "      <th>emp_length</th>\n",
       "      <th>grade</th>\n",
       "      <th>hardship_flag</th>\n",
       "      <th>home_ownership</th>\n",
       "      <th>loan_status</th>\n",
       "      <th>purpose</th>\n",
       "      <th>pymnt_plan</th>\n",
       "      <th>verification_status</th>\n",
       "    </tr>\n",
       "  </thead>\n",
       "  <tbody>\n",
       "    <tr>\n",
       "      <th>0</th>\n",
       "      <td>-1.326914</td>\n",
       "      <td>1.171580</td>\n",
       "      <td>0.899589</td>\n",
       "      <td>0.899572</td>\n",
       "      <td>1.201397</td>\n",
       "      <td>1.645700</td>\n",
       "      <td>0.644953</td>\n",
       "      <td>0.496383</td>\n",
       "      <td>-0.070379</td>\n",
       "      <td>-0.019969</td>\n",
       "      <td>1.965091</td>\n",
       "      <td>0.631600</td>\n",
       "      <td>1.062875</td>\n",
       "      <td>-1.755238</td>\n",
       "      <td>-0.01813</td>\n",
       "      <td>0.064164</td>\n",
       "      <td>-0.606543</td>\n",
       "      <td>0.115178</td>\n",
       "      <td>1.480831</td>\n",
       "      <td>-0.02748</td>\n",
       "      <td>0.187468</td>\n",
       "      <td>-1.027527</td>\n",
       "      <td>2.060082</td>\n",
       "      <td>1.082338</td>\n",
       "      <td>0.365039</td>\n",
       "      <td>0</td>\n",
       "      <td>1.0</td>\n",
       "      <td>0</td>\n",
       "      <td>0</td>\n",
       "      <td>1</td>\n",
       "      <td>1</td>\n",
       "      <td>1</td>\n",
       "      <td>0</td>\n",
       "      <td>0</td>\n",
       "    </tr>\n",
       "    <tr>\n",
       "      <th>1</th>\n",
       "      <td>2.544662</td>\n",
       "      <td>-0.387948</td>\n",
       "      <td>-0.261267</td>\n",
       "      <td>-0.261266</td>\n",
       "      <td>-0.377537</td>\n",
       "      <td>-1.726333</td>\n",
       "      <td>-0.032885</td>\n",
       "      <td>0.078142</td>\n",
       "      <td>-0.070379</td>\n",
       "      <td>-0.019969</td>\n",
       "      <td>-0.865870</td>\n",
       "      <td>-0.712643</td>\n",
       "      <td>-0.640442</td>\n",
       "      <td>1.344034</td>\n",
       "      <td>-0.01813</td>\n",
       "      <td>-2.074282</td>\n",
       "      <td>0.095377</td>\n",
       "      <td>-0.846130</td>\n",
       "      <td>-0.588304</td>\n",
       "      <td>-0.02748</td>\n",
       "      <td>-1.629146</td>\n",
       "      <td>1.477403</td>\n",
       "      <td>-0.941155</td>\n",
       "      <td>-0.937646</td>\n",
       "      <td>-0.813058</td>\n",
       "      <td>0</td>\n",
       "      <td>0.0</td>\n",
       "      <td>1</td>\n",
       "      <td>0</td>\n",
       "      <td>0</td>\n",
       "      <td>1</td>\n",
       "      <td>0</td>\n",
       "      <td>0</td>\n",
       "      <td>1</td>\n",
       "    </tr>\n",
       "    <tr>\n",
       "      <th>2</th>\n",
       "      <td>-1.326914</td>\n",
       "      <td>0.520515</td>\n",
       "      <td>0.567916</td>\n",
       "      <td>0.567904</td>\n",
       "      <td>-0.377537</td>\n",
       "      <td>0.083051</td>\n",
       "      <td>0.583332</td>\n",
       "      <td>0.458361</td>\n",
       "      <td>-0.070379</td>\n",
       "      <td>-0.019969</td>\n",
       "      <td>0.888317</td>\n",
       "      <td>0.082905</td>\n",
       "      <td>3.599536</td>\n",
       "      <td>-1.235665</td>\n",
       "      <td>-0.01813</td>\n",
       "      <td>-1.544575</td>\n",
       "      <td>-0.606543</td>\n",
       "      <td>1.076486</td>\n",
       "      <td>2.515399</td>\n",
       "      <td>-0.02748</td>\n",
       "      <td>0.685012</td>\n",
       "      <td>-1.106423</td>\n",
       "      <td>1.036430</td>\n",
       "      <td>-0.081818</td>\n",
       "      <td>3.038599</td>\n",
       "      <td>0</td>\n",
       "      <td>1.0</td>\n",
       "      <td>0</td>\n",
       "      <td>0</td>\n",
       "      <td>1</td>\n",
       "      <td>1</td>\n",
       "      <td>0</td>\n",
       "      <td>0</td>\n",
       "      <td>0</td>\n",
       "    </tr>\n",
       "    <tr>\n",
       "      <th>3</th>\n",
       "      <td>0.591176</td>\n",
       "      <td>-0.357984</td>\n",
       "      <td>-0.095430</td>\n",
       "      <td>-0.095432</td>\n",
       "      <td>2.780331</td>\n",
       "      <td>-0.410418</td>\n",
       "      <td>-0.156128</td>\n",
       "      <td>0.002098</td>\n",
       "      <td>-0.070379</td>\n",
       "      <td>-0.001552</td>\n",
       "      <td>-0.831107</td>\n",
       "      <td>-0.783683</td>\n",
       "      <td>0.385105</td>\n",
       "      <td>-1.442768</td>\n",
       "      <td>-0.01813</td>\n",
       "      <td>0.064164</td>\n",
       "      <td>-0.415110</td>\n",
       "      <td>-0.846130</td>\n",
       "      <td>0.791119</td>\n",
       "      <td>-0.02748</td>\n",
       "      <td>0.685012</td>\n",
       "      <td>-1.340292</td>\n",
       "      <td>-0.787799</td>\n",
       "      <td>-0.823838</td>\n",
       "      <td>-0.082157</td>\n",
       "      <td>0</td>\n",
       "      <td>1.0</td>\n",
       "      <td>0</td>\n",
       "      <td>0</td>\n",
       "      <td>0</td>\n",
       "      <td>1</td>\n",
       "      <td>0</td>\n",
       "      <td>0</td>\n",
       "      <td>1</td>\n",
       "    </tr>\n",
       "    <tr>\n",
       "      <th>4</th>\n",
       "      <td>0.591176</td>\n",
       "      <td>-0.009422</td>\n",
       "      <td>-0.261267</td>\n",
       "      <td>-0.261266</td>\n",
       "      <td>-0.377537</td>\n",
       "      <td>-1.315109</td>\n",
       "      <td>0.151980</td>\n",
       "      <td>0.192208</td>\n",
       "      <td>-0.070379</td>\n",
       "      <td>-0.019969</td>\n",
       "      <td>-0.075423</td>\n",
       "      <td>1.171392</td>\n",
       "      <td>-0.622164</td>\n",
       "      <td>1.020664</td>\n",
       "      <td>-0.01813</td>\n",
       "      <td>-0.347830</td>\n",
       "      <td>-0.478921</td>\n",
       "      <td>-0.365476</td>\n",
       "      <td>-1.278016</td>\n",
       "      <td>-0.02748</td>\n",
       "      <td>-0.472067</td>\n",
       "      <td>1.477403</td>\n",
       "      <td>-0.001468</td>\n",
       "      <td>-0.469185</td>\n",
       "      <td>-0.841910</td>\n",
       "      <td>0</td>\n",
       "      <td>1.0</td>\n",
       "      <td>0</td>\n",
       "      <td>0</td>\n",
       "      <td>1</td>\n",
       "      <td>1</td>\n",
       "      <td>0</td>\n",
       "      <td>0</td>\n",
       "      <td>1</td>\n",
       "    </tr>\n",
       "  </tbody>\n",
       "</table>\n",
       "</div>"
      ],
      "text/plain": [
       "   int_rate  annual_inc  fico_range_low  fico_range_high   pub_rec  total_acc  \\\n",
       "0 -1.326914    1.171580        0.899589         0.899572  1.201397   1.645700   \n",
       "1  2.544662   -0.387948       -0.261267        -0.261266 -0.377537  -1.726333   \n",
       "2 -1.326914    0.520515        0.567916         0.567904 -0.377537   0.083051   \n",
       "3  0.591176   -0.357984       -0.095430        -0.095432  2.780331  -0.410418   \n",
       "4  0.591176   -0.009422       -0.261267        -0.261266 -0.377537  -1.315109   \n",
       "\n",
       "   last_fico_range_high  last_fico_range_low  acc_now_delinq  tot_coll_amt  \\\n",
       "0              0.644953             0.496383       -0.070379     -0.019969   \n",
       "1             -0.032885             0.078142       -0.070379     -0.019969   \n",
       "2              0.583332             0.458361       -0.070379     -0.019969   \n",
       "3             -0.156128             0.002098       -0.070379     -0.001552   \n",
       "4              0.151980             0.192208       -0.070379     -0.019969   \n",
       "\n",
       "   tot_cur_bal  avg_cur_bal  bc_open_to_buy   bc_util  delinq_amnt  \\\n",
       "0     1.965091     0.631600        1.062875 -1.755238     -0.01813   \n",
       "1    -0.865870    -0.712643       -0.640442  1.344034     -0.01813   \n",
       "2     0.888317     0.082905        3.599536 -1.235665     -0.01813   \n",
       "3    -0.831107    -0.783683        0.385105 -1.442768     -0.01813   \n",
       "4    -0.075423     1.171392       -0.622164  1.020664     -0.01813   \n",
       "\n",
       "   mo_sin_old_il_acct  mo_sin_rcnt_rev_tl_op  mort_acc  num_bc_sats  \\\n",
       "0            0.064164              -0.606543  0.115178     1.480831   \n",
       "1           -2.074282               0.095377 -0.846130    -0.588304   \n",
       "2           -1.544575              -0.606543  1.076486     2.515399   \n",
       "3            0.064164              -0.415110 -0.846130     0.791119   \n",
       "4           -0.347830              -0.478921 -0.365476    -1.278016   \n",
       "\n",
       "   num_tl_120dpd_2m  pct_tl_nvr_dlq  percent_bc_gt_75  tot_hi_cred_lim  \\\n",
       "0          -0.02748        0.187468         -1.027527         2.060082   \n",
       "1          -0.02748       -1.629146          1.477403        -0.941155   \n",
       "2          -0.02748        0.685012         -1.106423         1.036430   \n",
       "3          -0.02748        0.685012         -1.340292        -0.787799   \n",
       "4          -0.02748       -0.472067          1.477403        -0.001468   \n",
       "\n",
       "   total_bal_ex_mort  total_bc_limit  application_type  emp_length  grade  \\\n",
       "0           1.082338        0.365039                 0         1.0      0   \n",
       "1          -0.937646       -0.813058                 0         0.0      1   \n",
       "2          -0.081818        3.038599                 0         1.0      0   \n",
       "3          -0.823838       -0.082157                 0         1.0      0   \n",
       "4          -0.469185       -0.841910                 0         1.0      0   \n",
       "\n",
       "   hardship_flag  home_ownership  loan_status  purpose  pymnt_plan  \\\n",
       "0              0               1            1        1           0   \n",
       "1              0               0            1        0           0   \n",
       "2              0               1            1        0           0   \n",
       "3              0               0            1        0           0   \n",
       "4              0               1            1        0           0   \n",
       "\n",
       "   verification_status  \n",
       "0                    0  \n",
       "1                    1  \n",
       "2                    0  \n",
       "3                    1  \n",
       "4                    1  "
      ]
     },
     "execution_count": 2,
     "metadata": {},
     "output_type": "execute_result"
    }
   ],
   "source": [
    "pathfile = \"../data/df_unido_definitivo.csv\"\n",
    "df = pd.read_csv(pathfile)\n",
    "df.drop(['Unnamed: 0'], axis = 'columns', inplace = True)\n",
    "df.head()"
   ]
  },
  {
   "cell_type": "code",
   "execution_count": 3,
   "metadata": {},
   "outputs": [],
   "source": [
    "x = df.drop(['loan_status'], axis='columns').values\n",
    "y = df['loan_status'].values"
   ]
  },
  {
   "cell_type": "code",
   "execution_count": 4,
   "metadata": {},
   "outputs": [],
   "source": [
    "x_train, x_test, y_train, y_test = train_test_split(x, y, test_size=0.3)"
   ]
  },
  {
   "cell_type": "code",
   "execution_count": 5,
   "metadata": {},
   "outputs": [],
   "source": [
    "def conf_matrix(Y_test, Y_pred):\n",
    "    cnf_matrix_tra = confusion_matrix(Y_test, Y_pred)\n",
    "    conf_plot = sns.heatmap(cnf_matrix_tra, annot=True, cmap='Blues', fmt='g')\n",
    "    bottom, top = conf_plot.get_ylim()\n",
    "    conf_plot.set_ylim(bottom + 0.5, top - 0.5)\n",
    "    conf_plot.set_title(\"Confusion matrix, with normalization\")\n",
    "    conf_plot.set_ylabel('True Label')\n",
    "    conf_plot.set_xlabel('Predicted Label');"
   ]
  },
  {
   "cell_type": "markdown",
   "metadata": {},
   "source": [
    "# Model"
   ]
  },
  {
   "cell_type": "code",
   "execution_count": 6,
   "metadata": {},
   "outputs": [
    {
     "name": "stderr",
     "output_type": "stream",
     "text": [
      "C:\\Users\\mario\\anaconda3\\lib\\site-packages\\sklearn\\model_selection\\_search.py:847: FutureWarning: The parameter 'iid' is deprecated in 0.22 and will be removed in 0.24.\n",
      "  warnings.warn(\n"
     ]
    },
    {
     "name": "stdout",
     "output_type": "stream",
     "text": [
      "Wall time: 55min 33s\n"
     ]
    },
    {
     "data": {
      "text/plain": [
       "GridSearchCV(cv=3, estimator=RandomForestClassifier(n_estimators=500),\n",
       "             iid=False, n_jobs=-1,\n",
       "             param_grid={'criterion': ['gini', 'entropy'], 'max_depth': [4, 8],\n",
       "                         'max_features': ['auto', 'sqrt', 'log2']},\n",
       "             scoring='roc_auc')"
      ]
     },
     "execution_count": 6,
     "metadata": {},
     "output_type": "execute_result"
    }
   ],
   "source": [
    "%%time\n",
    "param_test1 = {\n",
    "    'max_depth' : [4,8],\n",
    "    'max_features': ['auto', 'sqrt', 'log2'],\n",
    "    'criterion' : ['gini', 'entropy']}\n",
    "\n",
    "gsearch_RandomForest = GridSearchCV(estimator = RandomForestClassifier(500), \n",
    "                                    param_grid = param_test1, \n",
    "                                    scoring='roc_auc',\n",
    "                                    n_jobs=-1, \n",
    "                                    iid=False, cv=3)\n",
    "\n",
    "gsearch_RandomForest.fit(x_train, y_train)"
   ]
  },
  {
   "cell_type": "code",
   "execution_count": 7,
   "metadata": {},
   "outputs": [
    {
     "data": {
      "text/plain": [
       "{'criterion': 'entropy', 'max_depth': 8, 'max_features': 'auto'}"
      ]
     },
     "execution_count": 7,
     "metadata": {},
     "output_type": "execute_result"
    }
   ],
   "source": [
    "gsearch_RandomForest.best_params_"
   ]
  },
  {
   "cell_type": "code",
   "execution_count": 8,
   "metadata": {},
   "outputs": [
    {
     "data": {
      "text/plain": [
       "RandomForestClassifier(criterion='entropy', max_depth=8, n_estimators=500)"
      ]
     },
     "execution_count": 8,
     "metadata": {},
     "output_type": "execute_result"
    }
   ],
   "source": [
    "gsearch_RandomForest.best_estimator_"
   ]
  },
  {
   "cell_type": "code",
   "execution_count": 9,
   "metadata": {},
   "outputs": [
    {
     "name": "stdout",
     "output_type": "stream",
     "text": [
      "RandomForestClassifier(criterion='entropy', max_depth=8, n_estimators=500)\n",
      "Wall time: 9min 21s\n"
     ]
    }
   ],
   "source": [
    "%%time\n",
    "gsearch_RandomForest2 = gsearch_RandomForest.best_estimator_\n",
    "\n",
    "print(gsearch_RandomForest2.fit(x_train, y_train))"
   ]
  },
  {
   "cell_type": "code",
   "execution_count": 10,
   "metadata": {},
   "outputs": [],
   "source": [
    "Y_pred_gsearch_RandomForest2 = gsearch_RandomForest2.predict(x_test)"
   ]
  },
  {
   "cell_type": "code",
   "execution_count": 11,
   "metadata": {},
   "outputs": [
    {
     "name": "stdout",
     "output_type": "stream",
     "text": [
      "              precision    recall  f1-score   support\n",
      "\n",
      "           0       0.78      0.82      0.80     35029\n",
      "           1       0.94      0.92      0.93    103629\n",
      "\n",
      "    accuracy                           0.90    138658\n",
      "   macro avg       0.86      0.87      0.87    138658\n",
      "weighted avg       0.90      0.90      0.90    138658\n",
      "\n"
     ]
    },
    {
     "data": {
      "image/png": "[encoded data removed]",
      "text/plain": [
       "<Figure size 432x288 with 2 Axes>"
      ]
     },
     "metadata": {
      "needs_background": "light"
     },
     "output_type": "display_data"
    }
   ],
   "source": [
    "conf_matrix(y_test, Y_pred_gsearch_RandomForest2)\n",
    "print(classification_report(y_test,Y_pred_gsearch_RandomForest2))"
   ]
  },
  {
   "cell_type": "code",
   "execution_count": 16,
   "metadata": {},
   "outputs": [
    {
     "name": "stdout",
     "output_type": "stream",
     "text": [
      "              precision    recall  f1-score   support\n",
      "\n",
      "           0       0.78      0.82      0.80     35029\n",
      "           1       0.94      0.92      0.93    103629\n",
      "\n",
      "    accuracy                           0.90    138658\n",
      "   macro avg       0.86      0.87      0.87    138658\n",
      "weighted avg       0.90      0.90      0.90    138658\n",
      "\n",
      "Accuracy: 89.66161346622626 %\n"
     ]
    }
   ],
   "source": [
    "print(classification_report(y_test, Y_pred_gsearch_RandomForest2))\n",
    "\n",
    "print(\"Accuracy:\", metrics.accuracy_score(y_test, Y_pred_gsearch_RandomForest2)*100, '%')"
   ]
  },
  {
   "cell_type": "code",
   "execution_count": 19,
   "metadata": {},
   "outputs": [
    {
     "data": {
      "image/png": "[encoded data removed]",
      "text/plain": [
       "<Figure size 432x288 with 1 Axes>"
      ]
     },
     "metadata": {
      "needs_background": "light"
     },
     "output_type": "display_data"
    }
   ],
   "source": [
    "metrics.plot_roc_curve(gsearch_RandomForest2, x_test, y_test)\n",
    "plt.plot([0, 1], [0, 1],'r--')\n",
    "plt.show()"
   ]
  },
  {
   "cell_type": "code",
   "execution_count": 17,
   "metadata": {},
   "outputs": [],
   "source": [
    "def save_models(filename, model):\n",
    "    with open(filename, 'wb') as file:\n",
    "        pickle.dump(model, file)"
   ]
  },
  {
   "cell_type": "code",
   "execution_count": 18,
   "metadata": {},
   "outputs": [],
   "source": [
    "save_models(\"../model/random_forest\",gsearch_RandomForest2)"
   ]
  },
  {
   "cell_type": "markdown",
   "metadata": {},
   "source": [
    "# References"
   ]
  },
  {
   "cell_type": "markdown",
   "metadata": {},
   "source": [
    "https://scikit-learn.org/stable/modules/generated/sklearn.ensemble.RandomForestClassifier.html"
   ]
  }
 ],
 "metadata": {
  "kernelspec": {
   "display_name": "Python 3",
   "language": "python",
   "name": "python3"
  },
  "language_info": {
   "codemirror_mode": {
    "name": "ipython",
    "version": 3
   },
   "file_extension": ".py",
   "mimetype": "text/x-python",
   "name": "python",
   "nbconvert_exporter": "python",
   "pygments_lexer": "ipython3",
   "version": "3.8.3"
  }
 },
 "nbformat": 4,
 "nbformat_minor": 4
}
